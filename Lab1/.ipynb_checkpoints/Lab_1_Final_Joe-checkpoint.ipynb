{
 "cells": [
  {
   "cell_type": "markdown",
   "metadata": {},
   "source": [
    "## *Lab One: Visualization and Data Processing*\n",
    "\n",
    "## MSDS 7331 Machine Learning I\n",
    "\n",
    "Joe Jiang, Stacey Smith, and Kenneth Richardson"
   ]
  },
  {
   "cell_type": "markdown",
   "metadata": {},
   "source": [
    "\n",
    "\n",
    "\n",
    "## Business Understanding\n",
    "The credit card default dataset was collected in Taiwan to predict credit card default using gathered credit card transactional information from customer's profiles.  The dataset contains 30,000 observations and measured by customers default status. The ability to accurately predict which customers who are going to default is critically important for the credit card issuers' financial bottomline. There's evidence that show once a customer's account become in default status, the result usually ends in a write-off charge.  Accurately predict customer's default status is high importance for proper assessment of risk and lowering the default rate. \n",
    "\n",
    "We will start with expoloratory and transforming of the data for visualization, including basic statistics.  Then, we will comprise the data to generate and compare several models to predict the default probability of credit card holders.  The models will be compared for their overall accuracy, precision and recall rate.  We will also compare the model's AUC scores to measure their robustness for predicting the customer's default status.  Finally, we will measure the variable importance scores of the models and provide credit card issuers with critical business intelligence to better assess credit card risk."
   ]
  },
  {
   "cell_type": "markdown",
   "metadata": {},
   "source": [
    "## Data Meaning Type\n",
    "The customer's profile includes credit limit, (sex, age, and marriage status) and their credit card transaction information from past 6 months.  Also, customer's profile includes history of payments (past due status and monthly payments), and monthly bill statements.  The target is the default status of the customers.  The detail of attributes and target are list below (customer ID is omitted)\n",
    "\n",
    "\n",
    "\n",
    "#####  1. 'LIMIT_BAL', credit card limit (numeric, int)\n",
    "#####  2. 'SEX', customer gender, male = 1, female = 2 (categorical)\n",
    "#####  3. 'EDUCATION', customers' education, graduate school = 1, college = 2, high school = 3, other = 4 (categorical)\n",
    "#####  4. 'MARRIAGE', customer's marriage status, married =1, single =2, other =3 (categorical)\n",
    "#####  5. 'AGE', customer's age (numeric, int)\n",
    "#####  6. 'PAY_0', payment record (Sept, 2005, -1 to 9 indicate payment delayed by months) (nominal, int)\n",
    "#####  7. 'PAY_2', payment record (Aug, 2005, -1 to 9 indicate payment delayed by months)(nominal, int)\n",
    "#####  8. 'PAY_3', payment record (Jul, 2005, -1 to 9 indicate payment delayed by months)(nominal, int)\n",
    "#####  9. 'PAY_4', payment record (Jun, 2005, -1 to 9 indicate payment delayed by months)(nominal, int)\n",
    "#####  10. 'PAY_5', payment record (May, 2005, -1 to 9 indicate payment delayed by months)(nominal, int)\n",
    "#####  11. 'PAY_6', payment record (Apr, 2005, -1 to 9 indicate payment delayed by months)(nominal, int)\n",
    "#####  12. 'BILL_AMT1', monthly bill amount (Sept, 2005) (numeric, int)\n",
    "#####  13. 'BILL_AMT2', monthly bill amount (Aug, 2005) (numeric, int)\n",
    "#####  14. 'BILL_AMT3', monthly bill amount (Jul, 2005) (numeric, int)\n",
    "#####  15. 'BILL_AMT4', monthly bill amount (Jun, 2005) (numeric, int)\n",
    "#####  16. 'BILL_AMT5', monthly bill amount (May, 2005) (numeric, int) \n",
    "#####  17. 'BILL_AMT6', monthly bill amount (Apr, 2005) (numeric, int)\n",
    "#####  18. 'PAY_AMT1', monthly payment (Sept, 2005) (numeric, int)\n",
    "#####  19. 'PAY_AMT2', monthly payment (Aug, 2005) (numeric, int)\n",
    "#####  20. 'PAY_AMT3', monthly payment (Jul, 2005) (numeric, int)\n",
    "#####  21. 'PAY_AMT4', monthly payment (Jun, 2005) (numeric, int)\n",
    "#####  22. 'PAY_AMT5', monthly payment (May, 2005) (numeric, int)\n",
    "#####  23. 'PAY_AMT6', monthly payment (Apr, 2005) (numeric, int)\n",
    "#####  24. 'default', default ststus of the card holder (yes =1, no = 0)*"
   ]
  },
  {
   "cell_type": "code",
   "execution_count": 6,
   "metadata": {},
   "outputs": [],
   "source": [
    "import pandas as pd\n",
    "import os"
   ]
  },
  {
   "cell_type": "code",
   "execution_count": 8,
   "metadata": {},
   "outputs": [
    {
     "data": {
      "text/plain": [
       "'/Users/staceysmith/SMU/DS_7331_Machine_Learning_I/DS_7331_Machine_Learning_Projects/Lab1'"
      ]
     },
     "execution_count": 8,
     "metadata": {},
     "output_type": "execute_result"
    }
   ],
   "source": [
    "#view current directory\n",
    "os.getcwd()"
   ]
  },
  {
   "cell_type": "code",
   "execution_count": 3,
   "metadata": {},
   "outputs": [
    {
     "ename": "FileNotFoundError",
     "evalue": "[Errno 2] No such file or directory: 'C:\\\\Users\\\\Kenneth\\\\Documents\\\\SMU\\\\Data Mining - Machine Learning\\\\Lab Assignments'",
     "output_type": "error",
     "traceback": [
      "\u001b[0;31m---------------------------------------------------------------------------\u001b[0m",
      "\u001b[0;31mFileNotFoundError\u001b[0m                         Traceback (most recent call last)",
      "\u001b[0;32m<ipython-input-3-76dee69fbe19>\u001b[0m in \u001b[0;36m<module>\u001b[0;34m\u001b[0m\n\u001b[1;32m      1\u001b[0m \u001b[0;31m#Changing directory\u001b[0m\u001b[0;34m\u001b[0m\u001b[0;34m\u001b[0m\u001b[0;34m\u001b[0m\u001b[0m\n\u001b[0;32m----> 2\u001b[0;31m \u001b[0mos\u001b[0m\u001b[0;34m.\u001b[0m\u001b[0mchdir\u001b[0m\u001b[0;34m(\u001b[0m\u001b[0;34m'C:\\\\Users\\\\Kenneth\\\\Documents\\\\SMU\\\\Data Mining - Machine Learning\\\\Lab Assignments'\u001b[0m\u001b[0;34m)\u001b[0m\u001b[0;34m\u001b[0m\u001b[0;34m\u001b[0m\u001b[0m\n\u001b[0m",
      "\u001b[0;31mFileNotFoundError\u001b[0m: [Errno 2] No such file or directory: 'C:\\\\Users\\\\Kenneth\\\\Documents\\\\SMU\\\\Data Mining - Machine Learning\\\\Lab Assignments'"
     ]
    }
   ],
   "source": [
    "#Changing directory\n",
    "os.chdir('C:\\\\Users\\\\Kenneth\\\\Documents\\\\SMU\\\\Data Mining - Machine Learning\\\\Lab Assignments')"
   ]
  },
  {
   "cell_type": "code",
   "execution_count": 9,
   "metadata": {},
   "outputs": [
    {
     "data": {
      "text/plain": [
       "'/Users/staceysmith/SMU/DS_7331_Machine_Learning_I/DS_7331_Machine_Learning_Projects/Lab1'"
      ]
     },
     "execution_count": 9,
     "metadata": {},
     "output_type": "execute_result"
    }
   ],
   "source": [
    "#Confirm directory change\n",
    "os.getcwd()"
   ]
  },
  {
   "cell_type": "code",
   "execution_count": 10,
   "metadata": {},
   "outputs": [
    {
     "ename": "FileNotFoundError",
     "evalue": "File b'Default_Credit_File.csv' does not exist",
     "output_type": "error",
     "traceback": [
      "\u001b[0;31m---------------------------------------------------------------------------\u001b[0m",
      "\u001b[0;31mFileNotFoundError\u001b[0m                         Traceback (most recent call last)",
      "\u001b[0;32m<ipython-input-10-566b5aac220d>\u001b[0m in \u001b[0;36m<module>\u001b[0;34m\u001b[0m\n\u001b[0;32m----> 1\u001b[0;31m \u001b[0mdata_df\u001b[0m \u001b[0;34m=\u001b[0m \u001b[0mpd\u001b[0m\u001b[0;34m.\u001b[0m\u001b[0mread_csv\u001b[0m\u001b[0;34m(\u001b[0m\u001b[0;34m\"Default_Credit_File.csv\"\u001b[0m\u001b[0;34m)\u001b[0m \u001b[0;31m#import csv\u001b[0m\u001b[0;34m\u001b[0m\u001b[0;34m\u001b[0m\u001b[0m\n\u001b[0m",
      "\u001b[0;32m~/anaconda3/lib/python3.7/site-packages/pandas/io/parsers.py\u001b[0m in \u001b[0;36mparser_f\u001b[0;34m(filepath_or_buffer, sep, delimiter, header, names, index_col, usecols, squeeze, prefix, mangle_dupe_cols, dtype, engine, converters, true_values, false_values, skipinitialspace, skiprows, nrows, na_values, keep_default_na, na_filter, verbose, skip_blank_lines, parse_dates, infer_datetime_format, keep_date_col, date_parser, dayfirst, iterator, chunksize, compression, thousands, decimal, lineterminator, quotechar, quoting, escapechar, comment, encoding, dialect, tupleize_cols, error_bad_lines, warn_bad_lines, skipfooter, doublequote, delim_whitespace, low_memory, memory_map, float_precision)\u001b[0m\n\u001b[1;32m    676\u001b[0m                     skip_blank_lines=skip_blank_lines)\n\u001b[1;32m    677\u001b[0m \u001b[0;34m\u001b[0m\u001b[0m\n\u001b[0;32m--> 678\u001b[0;31m         \u001b[0;32mreturn\u001b[0m \u001b[0m_read\u001b[0m\u001b[0;34m(\u001b[0m\u001b[0mfilepath_or_buffer\u001b[0m\u001b[0;34m,\u001b[0m \u001b[0mkwds\u001b[0m\u001b[0;34m)\u001b[0m\u001b[0;34m\u001b[0m\u001b[0;34m\u001b[0m\u001b[0m\n\u001b[0m\u001b[1;32m    679\u001b[0m \u001b[0;34m\u001b[0m\u001b[0m\n\u001b[1;32m    680\u001b[0m     \u001b[0mparser_f\u001b[0m\u001b[0;34m.\u001b[0m\u001b[0m__name__\u001b[0m \u001b[0;34m=\u001b[0m \u001b[0mname\u001b[0m\u001b[0;34m\u001b[0m\u001b[0;34m\u001b[0m\u001b[0m\n",
      "\u001b[0;32m~/anaconda3/lib/python3.7/site-packages/pandas/io/parsers.py\u001b[0m in \u001b[0;36m_read\u001b[0;34m(filepath_or_buffer, kwds)\u001b[0m\n\u001b[1;32m    438\u001b[0m \u001b[0;34m\u001b[0m\u001b[0m\n\u001b[1;32m    439\u001b[0m     \u001b[0;31m# Create the parser.\u001b[0m\u001b[0;34m\u001b[0m\u001b[0;34m\u001b[0m\u001b[0;34m\u001b[0m\u001b[0m\n\u001b[0;32m--> 440\u001b[0;31m     \u001b[0mparser\u001b[0m \u001b[0;34m=\u001b[0m \u001b[0mTextFileReader\u001b[0m\u001b[0;34m(\u001b[0m\u001b[0mfilepath_or_buffer\u001b[0m\u001b[0;34m,\u001b[0m \u001b[0;34m**\u001b[0m\u001b[0mkwds\u001b[0m\u001b[0;34m)\u001b[0m\u001b[0;34m\u001b[0m\u001b[0;34m\u001b[0m\u001b[0m\n\u001b[0m\u001b[1;32m    441\u001b[0m \u001b[0;34m\u001b[0m\u001b[0m\n\u001b[1;32m    442\u001b[0m     \u001b[0;32mif\u001b[0m \u001b[0mchunksize\u001b[0m \u001b[0;32mor\u001b[0m \u001b[0miterator\u001b[0m\u001b[0;34m:\u001b[0m\u001b[0;34m\u001b[0m\u001b[0;34m\u001b[0m\u001b[0m\n",
      "\u001b[0;32m~/anaconda3/lib/python3.7/site-packages/pandas/io/parsers.py\u001b[0m in \u001b[0;36m__init__\u001b[0;34m(self, f, engine, **kwds)\u001b[0m\n\u001b[1;32m    785\u001b[0m             \u001b[0mself\u001b[0m\u001b[0;34m.\u001b[0m\u001b[0moptions\u001b[0m\u001b[0;34m[\u001b[0m\u001b[0;34m'has_index_names'\u001b[0m\u001b[0;34m]\u001b[0m \u001b[0;34m=\u001b[0m \u001b[0mkwds\u001b[0m\u001b[0;34m[\u001b[0m\u001b[0;34m'has_index_names'\u001b[0m\u001b[0;34m]\u001b[0m\u001b[0;34m\u001b[0m\u001b[0;34m\u001b[0m\u001b[0m\n\u001b[1;32m    786\u001b[0m \u001b[0;34m\u001b[0m\u001b[0m\n\u001b[0;32m--> 787\u001b[0;31m         \u001b[0mself\u001b[0m\u001b[0;34m.\u001b[0m\u001b[0m_make_engine\u001b[0m\u001b[0;34m(\u001b[0m\u001b[0mself\u001b[0m\u001b[0;34m.\u001b[0m\u001b[0mengine\u001b[0m\u001b[0;34m)\u001b[0m\u001b[0;34m\u001b[0m\u001b[0;34m\u001b[0m\u001b[0m\n\u001b[0m\u001b[1;32m    788\u001b[0m \u001b[0;34m\u001b[0m\u001b[0m\n\u001b[1;32m    789\u001b[0m     \u001b[0;32mdef\u001b[0m \u001b[0mclose\u001b[0m\u001b[0;34m(\u001b[0m\u001b[0mself\u001b[0m\u001b[0;34m)\u001b[0m\u001b[0;34m:\u001b[0m\u001b[0;34m\u001b[0m\u001b[0;34m\u001b[0m\u001b[0m\n",
      "\u001b[0;32m~/anaconda3/lib/python3.7/site-packages/pandas/io/parsers.py\u001b[0m in \u001b[0;36m_make_engine\u001b[0;34m(self, engine)\u001b[0m\n\u001b[1;32m   1012\u001b[0m     \u001b[0;32mdef\u001b[0m \u001b[0m_make_engine\u001b[0m\u001b[0;34m(\u001b[0m\u001b[0mself\u001b[0m\u001b[0;34m,\u001b[0m \u001b[0mengine\u001b[0m\u001b[0;34m=\u001b[0m\u001b[0;34m'c'\u001b[0m\u001b[0;34m)\u001b[0m\u001b[0;34m:\u001b[0m\u001b[0;34m\u001b[0m\u001b[0;34m\u001b[0m\u001b[0m\n\u001b[1;32m   1013\u001b[0m         \u001b[0;32mif\u001b[0m \u001b[0mengine\u001b[0m \u001b[0;34m==\u001b[0m \u001b[0;34m'c'\u001b[0m\u001b[0;34m:\u001b[0m\u001b[0;34m\u001b[0m\u001b[0;34m\u001b[0m\u001b[0m\n\u001b[0;32m-> 1014\u001b[0;31m             \u001b[0mself\u001b[0m\u001b[0;34m.\u001b[0m\u001b[0m_engine\u001b[0m \u001b[0;34m=\u001b[0m \u001b[0mCParserWrapper\u001b[0m\u001b[0;34m(\u001b[0m\u001b[0mself\u001b[0m\u001b[0;34m.\u001b[0m\u001b[0mf\u001b[0m\u001b[0;34m,\u001b[0m \u001b[0;34m**\u001b[0m\u001b[0mself\u001b[0m\u001b[0;34m.\u001b[0m\u001b[0moptions\u001b[0m\u001b[0;34m)\u001b[0m\u001b[0;34m\u001b[0m\u001b[0;34m\u001b[0m\u001b[0m\n\u001b[0m\u001b[1;32m   1015\u001b[0m         \u001b[0;32melse\u001b[0m\u001b[0;34m:\u001b[0m\u001b[0;34m\u001b[0m\u001b[0;34m\u001b[0m\u001b[0m\n\u001b[1;32m   1016\u001b[0m             \u001b[0;32mif\u001b[0m \u001b[0mengine\u001b[0m \u001b[0;34m==\u001b[0m \u001b[0;34m'python'\u001b[0m\u001b[0;34m:\u001b[0m\u001b[0;34m\u001b[0m\u001b[0;34m\u001b[0m\u001b[0m\n",
      "\u001b[0;32m~/anaconda3/lib/python3.7/site-packages/pandas/io/parsers.py\u001b[0m in \u001b[0;36m__init__\u001b[0;34m(self, src, **kwds)\u001b[0m\n\u001b[1;32m   1706\u001b[0m         \u001b[0mkwds\u001b[0m\u001b[0;34m[\u001b[0m\u001b[0;34m'usecols'\u001b[0m\u001b[0;34m]\u001b[0m \u001b[0;34m=\u001b[0m \u001b[0mself\u001b[0m\u001b[0;34m.\u001b[0m\u001b[0musecols\u001b[0m\u001b[0;34m\u001b[0m\u001b[0;34m\u001b[0m\u001b[0m\n\u001b[1;32m   1707\u001b[0m \u001b[0;34m\u001b[0m\u001b[0m\n\u001b[0;32m-> 1708\u001b[0;31m         \u001b[0mself\u001b[0m\u001b[0;34m.\u001b[0m\u001b[0m_reader\u001b[0m \u001b[0;34m=\u001b[0m \u001b[0mparsers\u001b[0m\u001b[0;34m.\u001b[0m\u001b[0mTextReader\u001b[0m\u001b[0;34m(\u001b[0m\u001b[0msrc\u001b[0m\u001b[0;34m,\u001b[0m \u001b[0;34m**\u001b[0m\u001b[0mkwds\u001b[0m\u001b[0;34m)\u001b[0m\u001b[0;34m\u001b[0m\u001b[0;34m\u001b[0m\u001b[0m\n\u001b[0m\u001b[1;32m   1709\u001b[0m \u001b[0;34m\u001b[0m\u001b[0m\n\u001b[1;32m   1710\u001b[0m         \u001b[0mpassed_names\u001b[0m \u001b[0;34m=\u001b[0m \u001b[0mself\u001b[0m\u001b[0;34m.\u001b[0m\u001b[0mnames\u001b[0m \u001b[0;32mis\u001b[0m \u001b[0;32mNone\u001b[0m\u001b[0;34m\u001b[0m\u001b[0;34m\u001b[0m\u001b[0m\n",
      "\u001b[0;32mpandas/_libs/parsers.pyx\u001b[0m in \u001b[0;36mpandas._libs.parsers.TextReader.__cinit__\u001b[0;34m()\u001b[0m\n",
      "\u001b[0;32mpandas/_libs/parsers.pyx\u001b[0m in \u001b[0;36mpandas._libs.parsers.TextReader._setup_parser_source\u001b[0;34m()\u001b[0m\n",
      "\u001b[0;31mFileNotFoundError\u001b[0m: File b'Default_Credit_File.csv' does not exist"
     ]
    }
   ],
   "source": [
    "data_df = pd.read_csv(\"Default_Credit_File.csv\") #import csv\n"
   ]
  },
  {
   "cell_type": "code",
   "execution_count": null,
   "metadata": {},
   "outputs": [],
   "source": [
    "data_df.shape  #30k rows of customers and 25 attributes (24 minue 'ID')"
   ]
  },
  {
   "cell_type": "code",
   "execution_count": 2,
   "metadata": {},
   "outputs": [
    {
     "ename": "NameError",
     "evalue": "name 'data_df' is not defined",
     "output_type": "error",
     "traceback": [
      "\u001b[1;31m---------------------------------------------------------------------------\u001b[0m",
      "\u001b[1;31mNameError\u001b[0m                                 Traceback (most recent call last)",
      "\u001b[1;32m<ipython-input-2-edf0c3c225cb>\u001b[0m in \u001b[0;36m<module>\u001b[1;34m\u001b[0m\n\u001b[1;32m----> 1\u001b[1;33m \u001b[0mdata_df\u001b[0m\u001b[1;33m.\u001b[0m\u001b[0mhead\u001b[0m\u001b[1;33m(\u001b[0m\u001b[1;33m)\u001b[0m\u001b[1;33m\u001b[0m\u001b[1;33m\u001b[0m\u001b[0m\n\u001b[0m",
      "\u001b[1;31mNameError\u001b[0m: name 'data_df' is not defined"
     ]
    }
   ],
   "source": [
    "data_df.head()"
   ]
  },
  {
   "cell_type": "markdown",
   "metadata": {},
   "source": [
    "---"
   ]
  },
  {
   "cell_type": "markdown",
   "metadata": {},
   "source": [
    "## Data Quality\n",
    "An initial quick check of the dataset indicating there were no missing values.  we noticed that for some subcategories of categorical features there was no description provided. To remedy this issue, we decided to combine those with other subcategories.  Also, we found similar nominal values where there was not a description for some numerical features, and proceeded to apply the same methodology shown below.\n",
    "\n",
    "##### Categorical Features:  \n",
    "'EDUCATION', there was two subcategories (0, 5, & 6) that we didn't have a description for, therefore, we replaced with a 4 = 'other'\n",
    "\n",
    "'MARRIAGE', there was one subscategory (0) that we didn't have a description for.  We replaced with a 3 = 'other'\n",
    "\n",
    "##### Numerical Feautures:\n",
    "'PAY_0', there was no description for (0,-1, and -2). We replaced (-1 and -2) with = 0; with assumption 0 means paid on time\n",
    "\n",
    "'PAY_2', there was no description for (0,-1, and -2). We replaced (-1 and -2) with = 0; with assumption 0 means paid on time\n",
    "\n",
    "'PAY_3', there was no description for (0,-1, and -2). We replaced (-1 and -2) with = 0; with assumption 0 means paid on time\n",
    "\n",
    "'PAY_4', there was no description for (0,-1, and -2). We replaced (-1 and -2) with = 0; with assumption 0 means paid on time\n",
    "\n",
    "'PAY_5', there was no description for (0,-1, and -2). We replaced (-1 and -2) with = 0; with assumption 0 means paid on time\n",
    "\n",
    "'PAY_6', there was no description for (0,-1, and -2). We replaced (-1 and -2) with = 0; with assumption 0 means paid on time"
   ]
  },
  {
   "cell_type": "code",
   "execution_count": 8,
   "metadata": {},
   "outputs": [
    {
     "data": {
      "text/plain": [
       "Series([], dtype: int64)"
      ]
     },
     "execution_count": 8,
     "metadata": {},
     "output_type": "execute_result"
    }
   ],
   "source": [
    "null_counts = data_df.isnull().sum() # Count of null values if any\n",
    "null_counts[null_counts > 0].sort_values(ascending=False) # sorting null values if any, descending"
   ]
  },
  {
   "cell_type": "code",
   "execution_count": 9,
   "metadata": {},
   "outputs": [
    {
     "data": {
      "text/plain": [
       "ID                            0\n",
       "LIMIT_BAL                     0\n",
       "SEX                           0\n",
       "EDUCATION                     0\n",
       "MARRIAGE                      0\n",
       "AGE                           0\n",
       "PAY_0                         0\n",
       "PAY_2                         0\n",
       "PAY_3                         0\n",
       "PAY_4                         0\n",
       "PAY_5                         0\n",
       "PAY_6                         0\n",
       "BILL_AMT1                     0\n",
       "BILL_AMT2                     0\n",
       "BILL_AMT3                     0\n",
       "BILL_AMT4                     0\n",
       "BILL_AMT5                     0\n",
       "BILL_AMT6                     0\n",
       "PAY_AMT1                      0\n",
       "PAY_AMT2                      0\n",
       "PAY_AMT3                      0\n",
       "PAY_AMT4                      0\n",
       "PAY_AMT5                      0\n",
       "PAY_AMT6                      0\n",
       "default payment next month    0\n",
       "dtype: int64"
      ]
     },
     "execution_count": 9,
     "metadata": {},
     "output_type": "execute_result"
    }
   ],
   "source": [
    "null_counts "
   ]
  },
  {
   "cell_type": "code",
   "execution_count": 10,
   "metadata": {},
   "outputs": [
    {
     "name": "stdout",
     "output_type": "stream",
     "text": [
      "<class 'pandas.core.frame.DataFrame'>\n",
      "RangeIndex: 30000 entries, 0 to 29999\n",
      "Data columns (total 25 columns):\n",
      "ID                            30000 non-null int64\n",
      "LIMIT_BAL                     30000 non-null int64\n",
      "SEX                           30000 non-null int64\n",
      "EDUCATION                     30000 non-null int64\n",
      "MARRIAGE                      30000 non-null int64\n",
      "AGE                           30000 non-null int64\n",
      "PAY_0                         30000 non-null int64\n",
      "PAY_2                         30000 non-null int64\n",
      "PAY_3                         30000 non-null int64\n",
      "PAY_4                         30000 non-null int64\n",
      "PAY_5                         30000 non-null int64\n",
      "PAY_6                         30000 non-null int64\n",
      "BILL_AMT1                     30000 non-null int64\n",
      "BILL_AMT2                     30000 non-null int64\n",
      "BILL_AMT3                     30000 non-null int64\n",
      "BILL_AMT4                     30000 non-null int64\n",
      "BILL_AMT5                     30000 non-null int64\n",
      "BILL_AMT6                     30000 non-null int64\n",
      "PAY_AMT1                      30000 non-null int64\n",
      "PAY_AMT2                      30000 non-null int64\n",
      "PAY_AMT3                      30000 non-null int64\n",
      "PAY_AMT4                      30000 non-null int64\n",
      "PAY_AMT5                      30000 non-null int64\n",
      "PAY_AMT6                      30000 non-null int64\n",
      "default payment next month    30000 non-null int64\n",
      "dtypes: int64(25)\n",
      "memory usage: 5.7 MB\n"
     ]
    }
   ],
   "source": [
    "data_df.info()"
   ]
  },
  {
   "cell_type": "code",
   "execution_count": 11,
   "metadata": {},
   "outputs": [],
   "source": [
    "#Renaming Columns\n",
    "data_df.columns = ['ID','LIMIT_BAL','SEX','EDUCATION', 'MARRIAGE', 'AGE','Sept2005_Pmt','Aug2005_Pmt','July2005_Pmt',\\\n",
    "                  'June2005_Pmt','May2005_Pmt','April2005_Pmt', 'Sept2005_BillAmt','Aug2005_BillAmt','July2005_BillAmt',\\\n",
    "                    'June2005_BillAmt','May2005_BillAmt','April2005_BillAmt','Sept2005_AmtPaid','Aug2005_AmtPaid',\\\n",
    "                      'July2005_AmtPaid','June2005_AmtPaid','May2005_AmtPaid','April2005_AmtPaid','Default_Pmt' ]\n"
   ]
  },
  {
   "cell_type": "code",
   "execution_count": 13,
   "metadata": {},
   "outputs": [
    {
     "name": "stdout",
     "output_type": "stream",
     "text": [
      "<class 'pandas.core.frame.DataFrame'>\n",
      "RangeIndex: 30000 entries, 0 to 29999\n",
      "Data columns (total 25 columns):\n",
      "ID                   30000 non-null int64\n",
      "LIMIT_BAL            30000 non-null int64\n",
      "SEX                  30000 non-null int64\n",
      "EDUCATION            30000 non-null int64\n",
      "MARRIAGE             30000 non-null int64\n",
      "AGE                  30000 non-null int64\n",
      "Sept2005_Pmt         30000 non-null int64\n",
      "Aug2005_Pmt          30000 non-null int64\n",
      "July2005_Pmt         30000 non-null int64\n",
      "June2005_Pmt         30000 non-null int64\n",
      "May2005_Pmt          30000 non-null int64\n",
      "April2005_Pmt        30000 non-null int64\n",
      "Sept2005_BillAmt     30000 non-null int64\n",
      "Aug2005_BillAmt      30000 non-null int64\n",
      "July2005_BillAmt     30000 non-null int64\n",
      "June2005_BillAmt     30000 non-null int64\n",
      "May2005_BillAmt      30000 non-null int64\n",
      "April2005_BillAmt    30000 non-null int64\n",
      "Sept2005_AmtPaid     30000 non-null int64\n",
      "Aug2005_AmtPaid      30000 non-null int64\n",
      "July2005_AmtPaid     30000 non-null int64\n",
      "June2005_AmtPaid     30000 non-null int64\n",
      "May2005_AmtPaid      30000 non-null int64\n",
      "April2005_AmtPaid    30000 non-null int64\n",
      "Default_Pmt          30000 non-null int64\n",
      "dtypes: int64(25)\n",
      "memory usage: 5.7 MB\n"
     ]
    }
   ],
   "source": [
    "data_df.info() # confirming renamed columns"
   ]
  },
  {
   "cell_type": "markdown",
   "metadata": {},
   "source": [
    "---"
   ]
  },
  {
   "cell_type": "markdown",
   "metadata": {},
   "source": [
    "## Simple Statistics"
   ]
  },
  {
   "cell_type": "code",
   "execution_count": 14,
   "metadata": {},
   "outputs": [],
   "source": [
    "import numpy as np\n",
    "import pandas as pd\n",
    "import pandas_profiling"
   ]
  },
  {
   "cell_type": "code",
   "execution_count": 3,
   "metadata": {},
   "outputs": [
    {
     "ename": "NameError",
     "evalue": "name 'pandas_profiling' is not defined",
     "output_type": "error",
     "traceback": [
      "\u001b[1;31m---------------------------------------------------------------------------\u001b[0m",
      "\u001b[1;31mNameError\u001b[0m                                 Traceback (most recent call last)",
      "\u001b[1;32m<ipython-input-3-853aa0aaba53>\u001b[0m in \u001b[0;36m<module>\u001b[1;34m\u001b[0m\n\u001b[0;32m      1\u001b[0m \u001b[1;31m#Generating profile report from pandas data frame using pandas_profiling\u001b[0m\u001b[1;33m\u001b[0m\u001b[1;33m\u001b[0m\u001b[1;33m\u001b[0m\u001b[0m\n\u001b[0;32m      2\u001b[0m \u001b[1;33m\u001b[0m\u001b[0m\n\u001b[1;32m----> 3\u001b[1;33m \u001b[0mpandas_profiling\u001b[0m\u001b[1;33m.\u001b[0m\u001b[0mProfileReport\u001b[0m\u001b[1;33m(\u001b[0m\u001b[0mdata_df\u001b[0m\u001b[1;33m)\u001b[0m\u001b[1;33m\u001b[0m\u001b[1;33m\u001b[0m\u001b[0m\n\u001b[0m",
      "\u001b[1;31mNameError\u001b[0m: name 'pandas_profiling' is not defined"
     ]
    }
   ],
   "source": [
    "#Generating profile report from pandas data frame using pandas_profiling\n",
    "\n",
    "pandas_profiling.ProfileReport(data_df)"
   ]
  },
  {
   "cell_type": "markdown",
   "metadata": {},
   "source": [
    "### pandas_profiling is an extremely powerful tool for examining the distribution and summary statistics of all attrributes and target. It also includes the correlation heatmap of all attributes and target, even warnings about highly correlated attributes. We based most of our subsequent data cleanup on the profile."
   ]
  },
  {
   "cell_type": "markdown",
   "metadata": {},
   "source": [
    "---"
   ]
  },
  {
   "cell_type": "markdown",
   "metadata": {},
   "source": [
    "## Visualize Attributes and Data Cleanup"
   ]
  },
  {
   "cell_type": "code",
   "execution_count": 16,
   "metadata": {},
   "outputs": [],
   "source": [
    "from matplotlib import pyplot as plt\n",
    "import seaborn as sns\n",
    "%matplotlib inline\n",
    "import warnings\n",
    "warnings.filterwarnings('ignore')"
   ]
  },
  {
   "cell_type": "code",
   "execution_count": 17,
   "metadata": {},
   "outputs": [
    {
     "data": {
      "image/png": "[encoded data removed]",
      "text/plain": [
       "<Figure size 432x288 with 1 Axes>"
      ]
     },
     "metadata": {},
     "output_type": "display_data"
    }
   ],
   "source": [
    "# Default by gender\n",
    "sns.set_style('darkgrid')\n",
    "sns.countplot(x='Default_Pmt', hue='SEX', data=data_df)\n",
    "plt.title('Males vs Females Payment Default')\n",
    "plt.show()"
   ]
  },
  {
   "cell_type": "markdown",
   "metadata": {},
   "source": [
    "##### Default_Pmt (0 = No Default, 1 = Default)\n",
    "##### Sex (1 = Males, 2= Females)\n",
    "\n",
    "Above graph displays a barchart of Males vs. Females \"Default\" and \"No Default\" counts.  As we can see from this graph, the females appears to have the higher count of \"No Default\" of payments next month compared to males.  What we found interesting was roughly 30%  of females projected to \"Default\" on payment next month is also higher compared to males.\n",
    " "
   ]
  },
  {
   "cell_type": "code",
   "execution_count": 18,
   "metadata": {},
   "outputs": [
    {
     "data": {
      "text/plain": [
       "0.2212"
      ]
     },
     "execution_count": 18,
     "metadata": {},
     "output_type": "execute_result"
    }
   ],
   "source": [
    "# Overall default rate\n",
    "data_df.Default_Pmt.sum()/data_df.Default_Pmt.count()"
   ]
  },
  {
   "cell_type": "code",
   "execution_count": 19,
   "metadata": {},
   "outputs": [],
   "source": [
    "#Replace -1 and -2 with 0 for late payment status, 0 represents customers with no late payments \n",
    "data_df.Sept2005_Pmt = data_df.Sept2005_Pmt.replace(to_replace = (-1, -2), value = 0)\n",
    "data_df.Aug2005_Pmt = data_df.Aug2005_Pmt.replace(to_replace = (-1, -2), value = 0)\n",
    "data_df.July2005_Pmt = data_df.July2005_Pmt.replace(to_replace = (-1, -2), value = 0)\n",
    "data_df.June2005_Pmt = data_df.June2005_Pmt.replace(to_replace = (-1, -2), value = 0)\n",
    "data_df.May2005_Pmt = data_df.May2005_Pmt.replace(to_replace = (-1, -2), value = 0)\n",
    "data_df.April2005_Pmt = data_df.April2005_Pmt.replace(to_replace = (-1, -2), value = 0)"
   ]
  },
  {
   "cell_type": "code",
   "execution_count": 20,
   "metadata": {},
   "outputs": [],
   "source": [
    "# Replace value 0 with 3 for marriage variable. 0 is not described, we combine it with 3 (other)\n",
    "data_df.MARRIAGE = data_df.MARRIAGE.replace(to_replace = 0, value = 3)\n",
    "\n",
    "#Replacing value (0,5, & 6) with 4 for education variable, 0, 5, 6 are not described, we combine them with 4 (other)\n",
    "data_df.EDUCATION = data_df.EDUCATION.replace(to_replace = (0, 5, 6), value = 4)"
   ]
  },
  {
   "cell_type": "code",
   "execution_count": 21,
   "metadata": {},
   "outputs": [
    {
     "data": {
      "text/plain": [
       "array([1, 2, 3], dtype=int64)"
      ]
     },
     "execution_count": 21,
     "metadata": {},
     "output_type": "execute_result"
    }
   ],
   "source": [
    "# Double check the number of MARRIAGE categories \n",
    "data_df.MARRIAGE.unique()"
   ]
  },
  {
   "cell_type": "code",
   "execution_count": 22,
   "metadata": {},
   "outputs": [
    {
     "data": {
      "text/plain": [
       "array([2, 1, 3, 4], dtype=int64)"
      ]
     },
     "execution_count": 22,
     "metadata": {},
     "output_type": "execute_result"
    }
   ],
   "source": [
    "# Double check the number of EDUCATION categories\n",
    "data_df.EDUCATION.unique()"
   ]
  },
  {
   "cell_type": "code",
   "execution_count": 83,
   "metadata": {},
   "outputs": [
    {
     "data": {
      "image/png": "[encoded data removed]",
      "text/plain": [
       "<Figure size 432x288 with 1 Axes>"
      ]
     },
     "metadata": {},
     "output_type": "display_data"
    }
   ],
   "source": [
    "# Histogram showing the distribution of credit limit \n",
    "sns.distplot(data_df.LIMIT_BAL, hist_kws=dict(edgecolor=\"k\", linewidth =2))\n",
    "plt.title('Credit Limit Balances')\n",
    "plt.show()"
   ]
  },
  {
   "cell_type": "markdown",
   "metadata": {},
   "source": [
    "Credit limit is right skewed, it appears to be heavily concentrated in the range of 0 to 250K Taiwanese dollars. "
   ]
  },
  {
   "cell_type": "code",
   "execution_count": 82,
   "metadata": {},
   "outputs": [
    {
     "data": {
      "image/png": "[encoded data removed]",
      "text/plain": [
       "<Figure size 432x288 with 1 Axes>"
      ]
     },
     "metadata": {},
     "output_type": "display_data"
    }
   ],
   "source": [
    "# Credit limit distribution of male and female customers (stacked graph)\n",
    "plt.hist([data_df[data_df.SEX == 1].LIMIT_BAL, \\\n",
    "          data_df[data_df.SEX == 2].LIMIT_BAL], \\\n",
    "         bins=15, ec='black', stacked ='True')\n",
    "plt.xlabel(\"Credit Limit Balance\")\n",
    "#create legend\n",
    "labels = [\"Male\",\"Female\"]\n",
    "plt.legend(labels)\n",
    "plt.show()"
   ]
  },
  {
   "cell_type": "markdown",
   "metadata": {},
   "source": [
    "Above graph shows a stacked bar graph of male and female customers' credit limit balances. They appear to have similar credit limits."
   ]
  },
  {
   "cell_type": "code",
   "execution_count": 85,
   "metadata": {},
   "outputs": [
    {
     "data": {
      "image/png": "[encoded data removed]",
      "text/plain": [
       "<Figure size 432x288 with 1 Axes>"
      ]
     },
     "metadata": {},
     "output_type": "display_data"
    }
   ],
   "source": [
    "#Comparing Male vs Females limit balances (overlaid graph)\n",
    "\n",
    "plt.hist(data_df[data_df.SEX == 2].LIMIT_BAL, ec='black', label='Females')\n",
    "plt.hist(data_df[data_df.SEX == 1].LIMIT_BAL, ec='black',label='Males')\n",
    "plt.title( 'Males vs Females Balances Overlay')\n",
    "plt.legend()\n",
    "plt.show()"
   ]
  },
  {
   "cell_type": "markdown",
   "metadata": {},
   "source": [
    "Above graph shows a overlaid bar chart of males vs females credit limit balances. "
   ]
  },
  {
   "cell_type": "code",
   "execution_count": 91,
   "metadata": {},
   "outputs": [
    {
     "data": {
      "image/png": "[encoded data removed]",
      "text/plain": [
       "<Figure size 432x288 with 1 Axes>"
      ]
     },
     "metadata": {},
     "output_type": "display_data"
    }
   ],
   "source": [
    "# credit limit by customers' EDUCATION level\n",
    "\n",
    "plt.hist([data_df[data_df.EDUCATION == 1].LIMIT_BAL,\\\n",
    "          data.df[data_df.EDUCATION == 2].LIMIT_BAL,\\\n",
    "          data_df[data_df.EDUCATION == 3].LIMIT_BAL,\\\n",
    "          data_df[data_df.EDUCATION == 4].LIMIT_BAL,\n",
    "         bins=15, ec='black', stacked ='True')\n",
    "plt.xlabel(\"Credit Limit Balance\")\n",
    "#create legend\n",
    "labels = [\"Male\",\"Female\"]\n",
    "plt.legend(labels)\n",
    "plt.show()"
   ]
  },
  {
   "cell_type": "markdown",
   "metadata": {},
   "source": [
    "Above graph shows a overlaid bar chart of credit limit balances of education levels.  It appears that persons holding a college degree only appears to have higher credit limit balance compared to others."
   ]
  },
  {
   "cell_type": "code",
   "execution_count": 69,
   "metadata": {},
   "outputs": [
    {
     "data": {
      "image/png": "[encoded data removed]",
      "text/plain": [
       "<Figure size 1080x504 with 1 Axes>"
      ]
     },
     "metadata": {},
     "output_type": "display_data"
    }
   ],
   "source": [
    "# We exmained all payment status of customers in the last 6 months \n",
    "plt.figure(figsize = (15,7))\n",
    "sns.countplot(x= 'variable', hue = 'value', data = pd.melt(data_df[['Sept2005_Pmt', 'Aug2005_Pmt', 'July2005_Pmt', 'June2005_Pmt', 'May2005_Pmt', 'April2005_Pmt']]))\n",
    "plt.show()"
   ]
  },
  {
   "cell_type": "markdown",
   "metadata": {},
   "source": [
    "For payment status in the last six months, 'April_20005_Pmt' to 'Sept2005_Pmt', '-2' and '0' are not in the original data description, they likely represent two additional subcategories of 'no comsuption' and 'revolving credit'. We combined them with -1 ('pay duly') and assigned them all to '0' catagory. This largest group represent ''no late payment'."
   ]
  },
  {
   "cell_type": "markdown",
   "metadata": {},
   "source": [
    "## Explore Joint Attributes"
   ]
  },
  {
   "cell_type": "code",
   "execution_count": 27,
   "metadata": {},
   "outputs": [
    {
     "data": {
      "text/html": [
       "<div>\n",
       "<style scoped>\n",
       "    .dataframe tbody tr th:only-of-type {\n",
       "        vertical-align: middle;\n",
       "    }\n",
       "\n",
       "    .dataframe tbody tr th {\n",
       "        vertical-align: top;\n",
       "    }\n",
       "\n",
       "    .dataframe thead th {\n",
       "        text-align: right;\n",
       "    }\n",
       "</style>\n",
       "<table border=\"1\" class=\"dataframe\">\n",
       "  <thead>\n",
       "    <tr style=\"text-align: right;\">\n",
       "      <th>EDUCATION</th>\n",
       "      <th>1</th>\n",
       "      <th>2</th>\n",
       "      <th>3</th>\n",
       "      <th>4</th>\n",
       "      <th>All</th>\n",
       "    </tr>\n",
       "    <tr>\n",
       "      <th>MARRIAGE</th>\n",
       "      <th></th>\n",
       "      <th></th>\n",
       "      <th></th>\n",
       "      <th></th>\n",
       "      <th></th>\n",
       "    </tr>\n",
       "  </thead>\n",
       "  <tbody>\n",
       "    <tr>\n",
       "      <th>1</th>\n",
       "      <td>3722</td>\n",
       "      <td>6842</td>\n",
       "      <td>2861</td>\n",
       "      <td>234</td>\n",
       "      <td>13659</td>\n",
       "    </tr>\n",
       "    <tr>\n",
       "      <th>2</th>\n",
       "      <td>6809</td>\n",
       "      <td>7020</td>\n",
       "      <td>1909</td>\n",
       "      <td>226</td>\n",
       "      <td>15964</td>\n",
       "    </tr>\n",
       "    <tr>\n",
       "      <th>3</th>\n",
       "      <td>54</td>\n",
       "      <td>168</td>\n",
       "      <td>147</td>\n",
       "      <td>8</td>\n",
       "      <td>377</td>\n",
       "    </tr>\n",
       "    <tr>\n",
       "      <th>All</th>\n",
       "      <td>10585</td>\n",
       "      <td>14030</td>\n",
       "      <td>4917</td>\n",
       "      <td>468</td>\n",
       "      <td>30000</td>\n",
       "    </tr>\n",
       "  </tbody>\n",
       "</table>\n",
       "</div>"
      ],
      "text/plain": [
       "EDUCATION      1      2     3    4    All\n",
       "MARRIAGE                                 \n",
       "1           3722   6842  2861  234  13659\n",
       "2           6809   7020  1909  226  15964\n",
       "3             54    168   147    8    377\n",
       "All        10585  14030  4917  468  30000"
      ]
     },
     "execution_count": 27,
     "metadata": {},
     "output_type": "execute_result"
    }
   ],
   "source": [
    "## Cross-tabulation with MARRIAGE AND EDUCATION\n",
    "pd.crosstab(data_df.MARRIAGE, data_df.EDUCATION, margins=True)"
   ]
  },
  {
   "cell_type": "code",
   "execution_count": 28,
   "metadata": {},
   "outputs": [],
   "source": [
    "# Remove the ID column, it has no value in predicting customers' default rate\n",
    "df = data_df.drop('ID',1)"
   ]
  },
  {
   "cell_type": "code",
   "execution_count": 29,
   "metadata": {},
   "outputs": [
    {
     "data": {
      "text/html": [
       "<div>\n",
       "<style scoped>\n",
       "    .dataframe tbody tr th:only-of-type {\n",
       "        vertical-align: middle;\n",
       "    }\n",
       "\n",
       "    .dataframe tbody tr th {\n",
       "        vertical-align: top;\n",
       "    }\n",
       "\n",
       "    .dataframe thead th {\n",
       "        text-align: right;\n",
       "    }\n",
       "</style>\n",
       "<table border=\"1\" class=\"dataframe\">\n",
       "  <thead>\n",
       "    <tr style=\"text-align: right;\">\n",
       "      <th></th>\n",
       "      <th>LIMIT_BAL</th>\n",
       "      <th>SEX</th>\n",
       "      <th>EDUCATION</th>\n",
       "      <th>MARRIAGE</th>\n",
       "      <th>AGE</th>\n",
       "      <th>Sept2005_Pmt</th>\n",
       "      <th>Aug2005_Pmt</th>\n",
       "      <th>July2005_Pmt</th>\n",
       "      <th>June2005_Pmt</th>\n",
       "      <th>May2005_Pmt</th>\n",
       "      <th>...</th>\n",
       "      <th>June2005_BillAmt</th>\n",
       "      <th>May2005_BillAmt</th>\n",
       "      <th>April2005_BillAmt</th>\n",
       "      <th>Sept2005_AmtPaid</th>\n",
       "      <th>Aug2005_AmtPaid</th>\n",
       "      <th>July2005_AmtPaid</th>\n",
       "      <th>June2005_AmtPaid</th>\n",
       "      <th>May2005_AmtPaid</th>\n",
       "      <th>April2005_AmtPaid</th>\n",
       "      <th>Default_Pmt</th>\n",
       "    </tr>\n",
       "  </thead>\n",
       "  <tbody>\n",
       "    <tr>\n",
       "      <th>0</th>\n",
       "      <td>20000</td>\n",
       "      <td>2</td>\n",
       "      <td>2</td>\n",
       "      <td>1</td>\n",
       "      <td>24</td>\n",
       "      <td>2</td>\n",
       "      <td>2</td>\n",
       "      <td>0</td>\n",
       "      <td>0</td>\n",
       "      <td>0</td>\n",
       "      <td>...</td>\n",
       "      <td>0</td>\n",
       "      <td>0</td>\n",
       "      <td>0</td>\n",
       "      <td>0</td>\n",
       "      <td>689</td>\n",
       "      <td>0</td>\n",
       "      <td>0</td>\n",
       "      <td>0</td>\n",
       "      <td>0</td>\n",
       "      <td>1</td>\n",
       "    </tr>\n",
       "    <tr>\n",
       "      <th>1</th>\n",
       "      <td>120000</td>\n",
       "      <td>2</td>\n",
       "      <td>2</td>\n",
       "      <td>2</td>\n",
       "      <td>26</td>\n",
       "      <td>0</td>\n",
       "      <td>2</td>\n",
       "      <td>0</td>\n",
       "      <td>0</td>\n",
       "      <td>0</td>\n",
       "      <td>...</td>\n",
       "      <td>3272</td>\n",
       "      <td>3455</td>\n",
       "      <td>3261</td>\n",
       "      <td>0</td>\n",
       "      <td>1000</td>\n",
       "      <td>1000</td>\n",
       "      <td>1000</td>\n",
       "      <td>0</td>\n",
       "      <td>2000</td>\n",
       "      <td>1</td>\n",
       "    </tr>\n",
       "    <tr>\n",
       "      <th>2</th>\n",
       "      <td>90000</td>\n",
       "      <td>2</td>\n",
       "      <td>2</td>\n",
       "      <td>2</td>\n",
       "      <td>34</td>\n",
       "      <td>0</td>\n",
       "      <td>0</td>\n",
       "      <td>0</td>\n",
       "      <td>0</td>\n",
       "      <td>0</td>\n",
       "      <td>...</td>\n",
       "      <td>14331</td>\n",
       "      <td>14948</td>\n",
       "      <td>15549</td>\n",
       "      <td>1518</td>\n",
       "      <td>1500</td>\n",
       "      <td>1000</td>\n",
       "      <td>1000</td>\n",
       "      <td>1000</td>\n",
       "      <td>5000</td>\n",
       "      <td>0</td>\n",
       "    </tr>\n",
       "    <tr>\n",
       "      <th>3</th>\n",
       "      <td>50000</td>\n",
       "      <td>2</td>\n",
       "      <td>2</td>\n",
       "      <td>1</td>\n",
       "      <td>37</td>\n",
       "      <td>0</td>\n",
       "      <td>0</td>\n",
       "      <td>0</td>\n",
       "      <td>0</td>\n",
       "      <td>0</td>\n",
       "      <td>...</td>\n",
       "      <td>28314</td>\n",
       "      <td>28959</td>\n",
       "      <td>29547</td>\n",
       "      <td>2000</td>\n",
       "      <td>2019</td>\n",
       "      <td>1200</td>\n",
       "      <td>1100</td>\n",
       "      <td>1069</td>\n",
       "      <td>1000</td>\n",
       "      <td>0</td>\n",
       "    </tr>\n",
       "    <tr>\n",
       "      <th>4</th>\n",
       "      <td>50000</td>\n",
       "      <td>1</td>\n",
       "      <td>2</td>\n",
       "      <td>1</td>\n",
       "      <td>57</td>\n",
       "      <td>0</td>\n",
       "      <td>0</td>\n",
       "      <td>0</td>\n",
       "      <td>0</td>\n",
       "      <td>0</td>\n",
       "      <td>...</td>\n",
       "      <td>20940</td>\n",
       "      <td>19146</td>\n",
       "      <td>19131</td>\n",
       "      <td>2000</td>\n",
       "      <td>36681</td>\n",
       "      <td>10000</td>\n",
       "      <td>9000</td>\n",
       "      <td>689</td>\n",
       "      <td>679</td>\n",
       "      <td>0</td>\n",
       "    </tr>\n",
       "  </tbody>\n",
       "</table>\n",
       "<p>5 rows × 24 columns</p>\n",
       "</div>"
      ],
      "text/plain": [
       "   LIMIT_BAL  SEX  EDUCATION  MARRIAGE  AGE  Sept2005_Pmt  Aug2005_Pmt  \\\n",
       "0      20000    2          2         1   24             2            2   \n",
       "1     120000    2          2         2   26             0            2   \n",
       "2      90000    2          2         2   34             0            0   \n",
       "3      50000    2          2         1   37             0            0   \n",
       "4      50000    1          2         1   57             0            0   \n",
       "\n",
       "   July2005_Pmt  June2005_Pmt  May2005_Pmt     ...       June2005_BillAmt  \\\n",
       "0             0             0            0     ...                      0   \n",
       "1             0             0            0     ...                   3272   \n",
       "2             0             0            0     ...                  14331   \n",
       "3             0             0            0     ...                  28314   \n",
       "4             0             0            0     ...                  20940   \n",
       "\n",
       "   May2005_BillAmt  April2005_BillAmt  Sept2005_AmtPaid  Aug2005_AmtPaid  \\\n",
       "0                0                  0                 0              689   \n",
       "1             3455               3261                 0             1000   \n",
       "2            14948              15549              1518             1500   \n",
       "3            28959              29547              2000             2019   \n",
       "4            19146              19131              2000            36681   \n",
       "\n",
       "   July2005_AmtPaid  June2005_AmtPaid  May2005_AmtPaid  April2005_AmtPaid  \\\n",
       "0                 0                 0                0                  0   \n",
       "1              1000              1000                0               2000   \n",
       "2              1000              1000             1000               5000   \n",
       "3              1200              1100             1069               1000   \n",
       "4             10000              9000              689                679   \n",
       "\n",
       "   Default_Pmt  \n",
       "0            1  \n",
       "1            1  \n",
       "2            0  \n",
       "3            0  \n",
       "4            0  \n",
       "\n",
       "[5 rows x 24 columns]"
      ]
     },
     "execution_count": 29,
     "metadata": {},
     "output_type": "execute_result"
    }
   ],
   "source": [
    "df.head()"
   ]
  },
  {
   "cell_type": "code",
   "execution_count": 30,
   "metadata": {},
   "outputs": [],
   "source": [
    "#Matrix/ heatmaps of numeric attributes and target\n",
    "htmap = df.corr()"
   ]
  },
  {
   "cell_type": "code",
   "execution_count": 31,
   "metadata": {},
   "outputs": [
    {
     "data": {
      "text/html": [
       "<div>\n",
       "<style scoped>\n",
       "    .dataframe tbody tr th:only-of-type {\n",
       "        vertical-align: middle;\n",
       "    }\n",
       "\n",
       "    .dataframe tbody tr th {\n",
       "        vertical-align: top;\n",
       "    }\n",
       "\n",
       "    .dataframe thead th {\n",
       "        text-align: right;\n",
       "    }\n",
       "</style>\n",
       "<table border=\"1\" class=\"dataframe\">\n",
       "  <thead>\n",
       "    <tr style=\"text-align: right;\">\n",
       "      <th></th>\n",
       "      <th>LIMIT_BAL</th>\n",
       "      <th>SEX</th>\n",
       "      <th>EDUCATION</th>\n",
       "      <th>MARRIAGE</th>\n",
       "      <th>AGE</th>\n",
       "      <th>Sept2005_Pmt</th>\n",
       "      <th>Aug2005_Pmt</th>\n",
       "      <th>July2005_Pmt</th>\n",
       "      <th>June2005_Pmt</th>\n",
       "      <th>May2005_Pmt</th>\n",
       "      <th>...</th>\n",
       "      <th>June2005_BillAmt</th>\n",
       "      <th>May2005_BillAmt</th>\n",
       "      <th>April2005_BillAmt</th>\n",
       "      <th>Sept2005_AmtPaid</th>\n",
       "      <th>Aug2005_AmtPaid</th>\n",
       "      <th>July2005_AmtPaid</th>\n",
       "      <th>June2005_AmtPaid</th>\n",
       "      <th>May2005_AmtPaid</th>\n",
       "      <th>April2005_AmtPaid</th>\n",
       "      <th>Default_Pmt</th>\n",
       "    </tr>\n",
       "  </thead>\n",
       "  <tbody>\n",
       "    <tr>\n",
       "      <th>LIMIT_BAL</th>\n",
       "      <td>1.000000</td>\n",
       "      <td>0.024755</td>\n",
       "      <td>-0.231088</td>\n",
       "      <td>-0.111012</td>\n",
       "      <td>0.144713</td>\n",
       "      <td>-0.170745</td>\n",
       "      <td>-0.197136</td>\n",
       "      <td>-0.191323</td>\n",
       "      <td>-0.180629</td>\n",
       "      <td>-0.170045</td>\n",
       "      <td>...</td>\n",
       "      <td>0.293988</td>\n",
       "      <td>0.295562</td>\n",
       "      <td>0.290389</td>\n",
       "      <td>0.195236</td>\n",
       "      <td>0.178408</td>\n",
       "      <td>0.210167</td>\n",
       "      <td>0.203242</td>\n",
       "      <td>0.217202</td>\n",
       "      <td>0.219595</td>\n",
       "      <td>-0.153520</td>\n",
       "    </tr>\n",
       "    <tr>\n",
       "      <th>SEX</th>\n",
       "      <td>0.024755</td>\n",
       "      <td>1.000000</td>\n",
       "      <td>0.013627</td>\n",
       "      <td>-0.028522</td>\n",
       "      <td>-0.090874</td>\n",
       "      <td>-0.034475</td>\n",
       "      <td>-0.044750</td>\n",
       "      <td>-0.041227</td>\n",
       "      <td>-0.039737</td>\n",
       "      <td>-0.038533</td>\n",
       "      <td>...</td>\n",
       "      <td>-0.021880</td>\n",
       "      <td>-0.017005</td>\n",
       "      <td>-0.016733</td>\n",
       "      <td>-0.000242</td>\n",
       "      <td>-0.001391</td>\n",
       "      <td>-0.008597</td>\n",
       "      <td>-0.002229</td>\n",
       "      <td>-0.001667</td>\n",
       "      <td>-0.002766</td>\n",
       "      <td>-0.039961</td>\n",
       "    </tr>\n",
       "    <tr>\n",
       "      <th>EDUCATION</th>\n",
       "      <td>-0.231088</td>\n",
       "      <td>0.013627</td>\n",
       "      <td>1.000000</td>\n",
       "      <td>-0.136797</td>\n",
       "      <td>0.182434</td>\n",
       "      <td>0.055937</td>\n",
       "      <td>0.062739</td>\n",
       "      <td>0.053058</td>\n",
       "      <td>0.051209</td>\n",
       "      <td>0.039623</td>\n",
       "      <td>...</td>\n",
       "      <td>-0.006131</td>\n",
       "      <td>-0.012439</td>\n",
       "      <td>-0.012646</td>\n",
       "      <td>-0.041088</td>\n",
       "      <td>-0.032793</td>\n",
       "      <td>-0.044293</td>\n",
       "      <td>-0.040949</td>\n",
       "      <td>-0.045138</td>\n",
       "      <td>-0.044061</td>\n",
       "      <td>0.033842</td>\n",
       "    </tr>\n",
       "    <tr>\n",
       "      <th>MARRIAGE</th>\n",
       "      <td>-0.111012</td>\n",
       "      <td>-0.028522</td>\n",
       "      <td>-0.136797</td>\n",
       "      <td>1.000000</td>\n",
       "      <td>-0.412001</td>\n",
       "      <td>-0.011551</td>\n",
       "      <td>-0.009275</td>\n",
       "      <td>0.002556</td>\n",
       "      <td>-0.003029</td>\n",
       "      <td>-0.002497</td>\n",
       "      <td>...</td>\n",
       "      <td>-0.027274</td>\n",
       "      <td>-0.029270</td>\n",
       "      <td>-0.025066</td>\n",
       "      <td>-0.004653</td>\n",
       "      <td>-0.009513</td>\n",
       "      <td>-0.004250</td>\n",
       "      <td>-0.013970</td>\n",
       "      <td>-0.003019</td>\n",
       "      <td>-0.008383</td>\n",
       "      <td>-0.027575</td>\n",
       "    </tr>\n",
       "    <tr>\n",
       "      <th>AGE</th>\n",
       "      <td>0.144713</td>\n",
       "      <td>-0.090874</td>\n",
       "      <td>0.182434</td>\n",
       "      <td>-0.412001</td>\n",
       "      <td>1.000000</td>\n",
       "      <td>-0.001447</td>\n",
       "      <td>-0.008774</td>\n",
       "      <td>-0.014266</td>\n",
       "      <td>-0.007288</td>\n",
       "      <td>-0.013277</td>\n",
       "      <td>...</td>\n",
       "      <td>0.051353</td>\n",
       "      <td>0.049345</td>\n",
       "      <td>0.047613</td>\n",
       "      <td>0.026147</td>\n",
       "      <td>0.021785</td>\n",
       "      <td>0.029247</td>\n",
       "      <td>0.021379</td>\n",
       "      <td>0.022850</td>\n",
       "      <td>0.019478</td>\n",
       "      <td>0.013890</td>\n",
       "    </tr>\n",
       "    <tr>\n",
       "      <th>Sept2005_Pmt</th>\n",
       "      <td>-0.170745</td>\n",
       "      <td>-0.034475</td>\n",
       "      <td>0.055937</td>\n",
       "      <td>-0.011551</td>\n",
       "      <td>-0.001447</td>\n",
       "      <td>1.000000</td>\n",
       "      <td>0.698389</td>\n",
       "      <td>0.516970</td>\n",
       "      <td>0.460224</td>\n",
       "      <td>0.424473</td>\n",
       "      <td>...</td>\n",
       "      <td>0.022100</td>\n",
       "      <td>0.030731</td>\n",
       "      <td>0.030201</td>\n",
       "      <td>-0.079177</td>\n",
       "      <td>-0.057189</td>\n",
       "      <td>-0.062620</td>\n",
       "      <td>-0.061886</td>\n",
       "      <td>-0.053784</td>\n",
       "      <td>-0.048733</td>\n",
       "      <td>0.396019</td>\n",
       "    </tr>\n",
       "    <tr>\n",
       "      <th>Aug2005_Pmt</th>\n",
       "      <td>-0.197136</td>\n",
       "      <td>-0.044750</td>\n",
       "      <td>0.062739</td>\n",
       "      <td>-0.009275</td>\n",
       "      <td>-0.008774</td>\n",
       "      <td>0.698389</td>\n",
       "      <td>1.000000</td>\n",
       "      <td>0.663529</td>\n",
       "      <td>0.512773</td>\n",
       "      <td>0.462717</td>\n",
       "      <td>...</td>\n",
       "      <td>0.032467</td>\n",
       "      <td>0.040422</td>\n",
       "      <td>0.042222</td>\n",
       "      <td>-0.097475</td>\n",
       "      <td>-0.054838</td>\n",
       "      <td>-0.059865</td>\n",
       "      <td>-0.053981</td>\n",
       "      <td>-0.048714</td>\n",
       "      <td>-0.043099</td>\n",
       "      <td>0.327093</td>\n",
       "    </tr>\n",
       "    <tr>\n",
       "      <th>July2005_Pmt</th>\n",
       "      <td>-0.191323</td>\n",
       "      <td>-0.041227</td>\n",
       "      <td>0.053058</td>\n",
       "      <td>0.002556</td>\n",
       "      <td>-0.014266</td>\n",
       "      <td>0.516970</td>\n",
       "      <td>0.663529</td>\n",
       "      <td>1.000000</td>\n",
       "      <td>0.678931</td>\n",
       "      <td>0.551430</td>\n",
       "      <td>...</td>\n",
       "      <td>0.016579</td>\n",
       "      <td>0.026196</td>\n",
       "      <td>0.028979</td>\n",
       "      <td>-0.039356</td>\n",
       "      <td>-0.073670</td>\n",
       "      <td>-0.057702</td>\n",
       "      <td>-0.053849</td>\n",
       "      <td>-0.050805</td>\n",
       "      <td>-0.048443</td>\n",
       "      <td>0.286999</td>\n",
       "    </tr>\n",
       "    <tr>\n",
       "      <th>June2005_Pmt</th>\n",
       "      <td>-0.180629</td>\n",
       "      <td>-0.039737</td>\n",
       "      <td>0.051209</td>\n",
       "      <td>-0.003029</td>\n",
       "      <td>-0.007288</td>\n",
       "      <td>0.460224</td>\n",
       "      <td>0.512773</td>\n",
       "      <td>0.678931</td>\n",
       "      <td>1.000000</td>\n",
       "      <td>0.745419</td>\n",
       "      <td>...</td>\n",
       "      <td>0.014654</td>\n",
       "      <td>0.027239</td>\n",
       "      <td>0.033138</td>\n",
       "      <td>-0.054484</td>\n",
       "      <td>-0.036877</td>\n",
       "      <td>-0.074064</td>\n",
       "      <td>-0.055305</td>\n",
       "      <td>-0.052732</td>\n",
       "      <td>-0.048828</td>\n",
       "      <td>0.269055</td>\n",
       "    </tr>\n",
       "    <tr>\n",
       "      <th>May2005_Pmt</th>\n",
       "      <td>-0.170045</td>\n",
       "      <td>-0.038533</td>\n",
       "      <td>0.039623</td>\n",
       "      <td>-0.002497</td>\n",
       "      <td>-0.013277</td>\n",
       "      <td>0.424473</td>\n",
       "      <td>0.462717</td>\n",
       "      <td>0.551430</td>\n",
       "      <td>0.745419</td>\n",
       "      <td>1.000000</td>\n",
       "      <td>...</td>\n",
       "      <td>0.024139</td>\n",
       "      <td>0.036216</td>\n",
       "      <td>0.042616</td>\n",
       "      <td>-0.053692</td>\n",
       "      <td>-0.039586</td>\n",
       "      <td>-0.037270</td>\n",
       "      <td>-0.065943</td>\n",
       "      <td>-0.051815</td>\n",
       "      <td>-0.046110</td>\n",
       "      <td>0.260850</td>\n",
       "    </tr>\n",
       "    <tr>\n",
       "      <th>April2005_Pmt</th>\n",
       "      <td>-0.167820</td>\n",
       "      <td>-0.032061</td>\n",
       "      <td>0.028670</td>\n",
       "      <td>0.002793</td>\n",
       "      <td>-0.016948</td>\n",
       "      <td>0.373805</td>\n",
       "      <td>0.407086</td>\n",
       "      <td>0.492827</td>\n",
       "      <td>0.602875</td>\n",
       "      <td>0.740357</td>\n",
       "      <td>...</td>\n",
       "      <td>0.020598</td>\n",
       "      <td>0.041785</td>\n",
       "      <td>0.046012</td>\n",
       "      <td>-0.047804</td>\n",
       "      <td>-0.039868</td>\n",
       "      <td>-0.040160</td>\n",
       "      <td>-0.030460</td>\n",
       "      <td>-0.066875</td>\n",
       "      <td>-0.045358</td>\n",
       "      <td>0.244437</td>\n",
       "    </tr>\n",
       "    <tr>\n",
       "      <th>Sept2005_BillAmt</th>\n",
       "      <td>0.285430</td>\n",
       "      <td>-0.033642</td>\n",
       "      <td>0.016597</td>\n",
       "      <td>-0.027832</td>\n",
       "      <td>0.056239</td>\n",
       "      <td>-0.000819</td>\n",
       "      <td>0.011684</td>\n",
       "      <td>-0.020586</td>\n",
       "      <td>-0.025184</td>\n",
       "      <td>-0.018581</td>\n",
       "      <td>...</td>\n",
       "      <td>0.860272</td>\n",
       "      <td>0.829779</td>\n",
       "      <td>0.802650</td>\n",
       "      <td>0.140277</td>\n",
       "      <td>0.099355</td>\n",
       "      <td>0.156887</td>\n",
       "      <td>0.158303</td>\n",
       "      <td>0.167026</td>\n",
       "      <td>0.179341</td>\n",
       "      <td>-0.019644</td>\n",
       "    </tr>\n",
       "    <tr>\n",
       "      <th>Aug2005_BillAmt</th>\n",
       "      <td>0.278314</td>\n",
       "      <td>-0.031183</td>\n",
       "      <td>0.011980</td>\n",
       "      <td>-0.025294</td>\n",
       "      <td>0.054283</td>\n",
       "      <td>0.009137</td>\n",
       "      <td>0.015932</td>\n",
       "      <td>-0.000968</td>\n",
       "      <td>-0.012569</td>\n",
       "      <td>-0.008614</td>\n",
       "      <td>...</td>\n",
       "      <td>0.892482</td>\n",
       "      <td>0.859778</td>\n",
       "      <td>0.831594</td>\n",
       "      <td>0.280365</td>\n",
       "      <td>0.100851</td>\n",
       "      <td>0.150718</td>\n",
       "      <td>0.147398</td>\n",
       "      <td>0.157957</td>\n",
       "      <td>0.174256</td>\n",
       "      <td>-0.014193</td>\n",
       "    </tr>\n",
       "    <tr>\n",
       "      <th>July2005_BillAmt</th>\n",
       "      <td>0.283236</td>\n",
       "      <td>-0.024563</td>\n",
       "      <td>0.006714</td>\n",
       "      <td>-0.029082</td>\n",
       "      <td>0.053710</td>\n",
       "      <td>0.013307</td>\n",
       "      <td>0.022950</td>\n",
       "      <td>0.002447</td>\n",
       "      <td>0.002670</td>\n",
       "      <td>0.003377</td>\n",
       "      <td>...</td>\n",
       "      <td>0.923969</td>\n",
       "      <td>0.883910</td>\n",
       "      <td>0.853320</td>\n",
       "      <td>0.244335</td>\n",
       "      <td>0.316936</td>\n",
       "      <td>0.130011</td>\n",
       "      <td>0.143405</td>\n",
       "      <td>0.179712</td>\n",
       "      <td>0.182326</td>\n",
       "      <td>-0.014076</td>\n",
       "    </tr>\n",
       "    <tr>\n",
       "      <th>June2005_BillAmt</th>\n",
       "      <td>0.293988</td>\n",
       "      <td>-0.021880</td>\n",
       "      <td>-0.006131</td>\n",
       "      <td>-0.027274</td>\n",
       "      <td>0.051353</td>\n",
       "      <td>0.022100</td>\n",
       "      <td>0.032467</td>\n",
       "      <td>0.016579</td>\n",
       "      <td>0.014654</td>\n",
       "      <td>0.024139</td>\n",
       "      <td>...</td>\n",
       "      <td>1.000000</td>\n",
       "      <td>0.940134</td>\n",
       "      <td>0.900941</td>\n",
       "      <td>0.233012</td>\n",
       "      <td>0.207564</td>\n",
       "      <td>0.300023</td>\n",
       "      <td>0.130191</td>\n",
       "      <td>0.160433</td>\n",
       "      <td>0.177637</td>\n",
       "      <td>-0.010156</td>\n",
       "    </tr>\n",
       "    <tr>\n",
       "      <th>May2005_BillAmt</th>\n",
       "      <td>0.295562</td>\n",
       "      <td>-0.017005</td>\n",
       "      <td>-0.012439</td>\n",
       "      <td>-0.029270</td>\n",
       "      <td>0.049345</td>\n",
       "      <td>0.030731</td>\n",
       "      <td>0.040422</td>\n",
       "      <td>0.026196</td>\n",
       "      <td>0.027239</td>\n",
       "      <td>0.036216</td>\n",
       "      <td>...</td>\n",
       "      <td>0.940134</td>\n",
       "      <td>1.000000</td>\n",
       "      <td>0.946197</td>\n",
       "      <td>0.217031</td>\n",
       "      <td>0.181246</td>\n",
       "      <td>0.252305</td>\n",
       "      <td>0.293118</td>\n",
       "      <td>0.141574</td>\n",
       "      <td>0.164184</td>\n",
       "      <td>-0.006760</td>\n",
       "    </tr>\n",
       "    <tr>\n",
       "      <th>April2005_BillAmt</th>\n",
       "      <td>0.290389</td>\n",
       "      <td>-0.016733</td>\n",
       "      <td>-0.012646</td>\n",
       "      <td>-0.025066</td>\n",
       "      <td>0.047613</td>\n",
       "      <td>0.030201</td>\n",
       "      <td>0.042222</td>\n",
       "      <td>0.028979</td>\n",
       "      <td>0.033138</td>\n",
       "      <td>0.042616</td>\n",
       "      <td>...</td>\n",
       "      <td>0.900941</td>\n",
       "      <td>0.946197</td>\n",
       "      <td>1.000000</td>\n",
       "      <td>0.199965</td>\n",
       "      <td>0.172663</td>\n",
       "      <td>0.233770</td>\n",
       "      <td>0.250237</td>\n",
       "      <td>0.307729</td>\n",
       "      <td>0.115494</td>\n",
       "      <td>-0.005372</td>\n",
       "    </tr>\n",
       "    <tr>\n",
       "      <th>Sept2005_AmtPaid</th>\n",
       "      <td>0.195236</td>\n",
       "      <td>-0.000242</td>\n",
       "      <td>-0.041088</td>\n",
       "      <td>-0.004653</td>\n",
       "      <td>0.026147</td>\n",
       "      <td>-0.079177</td>\n",
       "      <td>-0.097475</td>\n",
       "      <td>-0.039356</td>\n",
       "      <td>-0.054484</td>\n",
       "      <td>-0.053692</td>\n",
       "      <td>...</td>\n",
       "      <td>0.233012</td>\n",
       "      <td>0.217031</td>\n",
       "      <td>0.199965</td>\n",
       "      <td>1.000000</td>\n",
       "      <td>0.285576</td>\n",
       "      <td>0.252191</td>\n",
       "      <td>0.199558</td>\n",
       "      <td>0.148459</td>\n",
       "      <td>0.185735</td>\n",
       "      <td>-0.072929</td>\n",
       "    </tr>\n",
       "    <tr>\n",
       "      <th>Aug2005_AmtPaid</th>\n",
       "      <td>0.178408</td>\n",
       "      <td>-0.001391</td>\n",
       "      <td>-0.032793</td>\n",
       "      <td>-0.009513</td>\n",
       "      <td>0.021785</td>\n",
       "      <td>-0.057189</td>\n",
       "      <td>-0.054838</td>\n",
       "      <td>-0.073670</td>\n",
       "      <td>-0.036877</td>\n",
       "      <td>-0.039586</td>\n",
       "      <td>...</td>\n",
       "      <td>0.207564</td>\n",
       "      <td>0.181246</td>\n",
       "      <td>0.172663</td>\n",
       "      <td>0.285576</td>\n",
       "      <td>1.000000</td>\n",
       "      <td>0.244770</td>\n",
       "      <td>0.180107</td>\n",
       "      <td>0.180908</td>\n",
       "      <td>0.157634</td>\n",
       "      <td>-0.058579</td>\n",
       "    </tr>\n",
       "    <tr>\n",
       "      <th>July2005_AmtPaid</th>\n",
       "      <td>0.210167</td>\n",
       "      <td>-0.008597</td>\n",
       "      <td>-0.044293</td>\n",
       "      <td>-0.004250</td>\n",
       "      <td>0.029247</td>\n",
       "      <td>-0.062620</td>\n",
       "      <td>-0.059865</td>\n",
       "      <td>-0.057702</td>\n",
       "      <td>-0.074064</td>\n",
       "      <td>-0.037270</td>\n",
       "      <td>...</td>\n",
       "      <td>0.300023</td>\n",
       "      <td>0.252305</td>\n",
       "      <td>0.233770</td>\n",
       "      <td>0.252191</td>\n",
       "      <td>0.244770</td>\n",
       "      <td>1.000000</td>\n",
       "      <td>0.216325</td>\n",
       "      <td>0.159214</td>\n",
       "      <td>0.162740</td>\n",
       "      <td>-0.056250</td>\n",
       "    </tr>\n",
       "    <tr>\n",
       "      <th>June2005_AmtPaid</th>\n",
       "      <td>0.203242</td>\n",
       "      <td>-0.002229</td>\n",
       "      <td>-0.040949</td>\n",
       "      <td>-0.013970</td>\n",
       "      <td>0.021379</td>\n",
       "      <td>-0.061886</td>\n",
       "      <td>-0.053981</td>\n",
       "      <td>-0.053849</td>\n",
       "      <td>-0.055305</td>\n",
       "      <td>-0.065943</td>\n",
       "      <td>...</td>\n",
       "      <td>0.130191</td>\n",
       "      <td>0.293118</td>\n",
       "      <td>0.250237</td>\n",
       "      <td>0.199558</td>\n",
       "      <td>0.180107</td>\n",
       "      <td>0.216325</td>\n",
       "      <td>1.000000</td>\n",
       "      <td>0.151830</td>\n",
       "      <td>0.157834</td>\n",
       "      <td>-0.056827</td>\n",
       "    </tr>\n",
       "    <tr>\n",
       "      <th>May2005_AmtPaid</th>\n",
       "      <td>0.217202</td>\n",
       "      <td>-0.001667</td>\n",
       "      <td>-0.045138</td>\n",
       "      <td>-0.003019</td>\n",
       "      <td>0.022850</td>\n",
       "      <td>-0.053784</td>\n",
       "      <td>-0.048714</td>\n",
       "      <td>-0.050805</td>\n",
       "      <td>-0.052732</td>\n",
       "      <td>-0.051815</td>\n",
       "      <td>...</td>\n",
       "      <td>0.160433</td>\n",
       "      <td>0.141574</td>\n",
       "      <td>0.307729</td>\n",
       "      <td>0.148459</td>\n",
       "      <td>0.180908</td>\n",
       "      <td>0.159214</td>\n",
       "      <td>0.151830</td>\n",
       "      <td>1.000000</td>\n",
       "      <td>0.154896</td>\n",
       "      <td>-0.055124</td>\n",
       "    </tr>\n",
       "    <tr>\n",
       "      <th>April2005_AmtPaid</th>\n",
       "      <td>0.219595</td>\n",
       "      <td>-0.002766</td>\n",
       "      <td>-0.044061</td>\n",
       "      <td>-0.008383</td>\n",
       "      <td>0.019478</td>\n",
       "      <td>-0.048733</td>\n",
       "      <td>-0.043099</td>\n",
       "      <td>-0.048443</td>\n",
       "      <td>-0.048828</td>\n",
       "      <td>-0.046110</td>\n",
       "      <td>...</td>\n",
       "      <td>0.177637</td>\n",
       "      <td>0.164184</td>\n",
       "      <td>0.115494</td>\n",
       "      <td>0.185735</td>\n",
       "      <td>0.157634</td>\n",
       "      <td>0.162740</td>\n",
       "      <td>0.157834</td>\n",
       "      <td>0.154896</td>\n",
       "      <td>1.000000</td>\n",
       "      <td>-0.053183</td>\n",
       "    </tr>\n",
       "    <tr>\n",
       "      <th>Default_Pmt</th>\n",
       "      <td>-0.153520</td>\n",
       "      <td>-0.039961</td>\n",
       "      <td>0.033842</td>\n",
       "      <td>-0.027575</td>\n",
       "      <td>0.013890</td>\n",
       "      <td>0.396019</td>\n",
       "      <td>0.327093</td>\n",
       "      <td>0.286999</td>\n",
       "      <td>0.269055</td>\n",
       "      <td>0.260850</td>\n",
       "      <td>...</td>\n",
       "      <td>-0.010156</td>\n",
       "      <td>-0.006760</td>\n",
       "      <td>-0.005372</td>\n",
       "      <td>-0.072929</td>\n",
       "      <td>-0.058579</td>\n",
       "      <td>-0.056250</td>\n",
       "      <td>-0.056827</td>\n",
       "      <td>-0.055124</td>\n",
       "      <td>-0.053183</td>\n",
       "      <td>1.000000</td>\n",
       "    </tr>\n",
       "  </tbody>\n",
       "</table>\n",
       "<p>24 rows × 24 columns</p>\n",
       "</div>"
      ],
      "text/plain": [
       "                   LIMIT_BAL       SEX  EDUCATION  MARRIAGE       AGE  \\\n",
       "LIMIT_BAL           1.000000  0.024755  -0.231088 -0.111012  0.144713   \n",
       "SEX                 0.024755  1.000000   0.013627 -0.028522 -0.090874   \n",
       "EDUCATION          -0.231088  0.013627   1.000000 -0.136797  0.182434   \n",
       "MARRIAGE           -0.111012 -0.028522  -0.136797  1.000000 -0.412001   \n",
       "AGE                 0.144713 -0.090874   0.182434 -0.412001  1.000000   \n",
       "Sept2005_Pmt       -0.170745 -0.034475   0.055937 -0.011551 -0.001447   \n",
       "Aug2005_Pmt        -0.197136 -0.044750   0.062739 -0.009275 -0.008774   \n",
       "July2005_Pmt       -0.191323 -0.041227   0.053058  0.002556 -0.014266   \n",
       "June2005_Pmt       -0.180629 -0.039737   0.051209 -0.003029 -0.007288   \n",
       "May2005_Pmt        -0.170045 -0.038533   0.039623 -0.002497 -0.013277   \n",
       "April2005_Pmt      -0.167820 -0.032061   0.028670  0.002793 -0.016948   \n",
       "Sept2005_BillAmt    0.285430 -0.033642   0.016597 -0.027832  0.056239   \n",
       "Aug2005_BillAmt     0.278314 -0.031183   0.011980 -0.025294  0.054283   \n",
       "July2005_BillAmt    0.283236 -0.024563   0.006714 -0.029082  0.053710   \n",
       "June2005_BillAmt    0.293988 -0.021880  -0.006131 -0.027274  0.051353   \n",
       "May2005_BillAmt     0.295562 -0.017005  -0.012439 -0.029270  0.049345   \n",
       "April2005_BillAmt   0.290389 -0.016733  -0.012646 -0.025066  0.047613   \n",
       "Sept2005_AmtPaid    0.195236 -0.000242  -0.041088 -0.004653  0.026147   \n",
       "Aug2005_AmtPaid     0.178408 -0.001391  -0.032793 -0.009513  0.021785   \n",
       "July2005_AmtPaid    0.210167 -0.008597  -0.044293 -0.004250  0.029247   \n",
       "June2005_AmtPaid    0.203242 -0.002229  -0.040949 -0.013970  0.021379   \n",
       "May2005_AmtPaid     0.217202 -0.001667  -0.045138 -0.003019  0.022850   \n",
       "April2005_AmtPaid   0.219595 -0.002766  -0.044061 -0.008383  0.019478   \n",
       "Default_Pmt        -0.153520 -0.039961   0.033842 -0.027575  0.013890   \n",
       "\n",
       "                   Sept2005_Pmt  Aug2005_Pmt  July2005_Pmt  June2005_Pmt  \\\n",
       "LIMIT_BAL             -0.170745    -0.197136     -0.191323     -0.180629   \n",
       "SEX                   -0.034475    -0.044750     -0.041227     -0.039737   \n",
       "EDUCATION              0.055937     0.062739      0.053058      0.051209   \n",
       "MARRIAGE              -0.011551    -0.009275      0.002556     -0.003029   \n",
       "AGE                   -0.001447    -0.008774     -0.014266     -0.007288   \n",
       "Sept2005_Pmt           1.000000     0.698389      0.516970      0.460224   \n",
       "Aug2005_Pmt            0.698389     1.000000      0.663529      0.512773   \n",
       "July2005_Pmt           0.516970     0.663529      1.000000      0.678931   \n",
       "June2005_Pmt           0.460224     0.512773      0.678931      1.000000   \n",
       "May2005_Pmt            0.424473     0.462717      0.551430      0.745419   \n",
       "April2005_Pmt          0.373805     0.407086      0.492827      0.602875   \n",
       "Sept2005_BillAmt      -0.000819     0.011684     -0.020586     -0.025184   \n",
       "Aug2005_BillAmt        0.009137     0.015932     -0.000968     -0.012569   \n",
       "July2005_BillAmt       0.013307     0.022950      0.002447      0.002670   \n",
       "June2005_BillAmt       0.022100     0.032467      0.016579      0.014654   \n",
       "May2005_BillAmt        0.030731     0.040422      0.026196      0.027239   \n",
       "April2005_BillAmt      0.030201     0.042222      0.028979      0.033138   \n",
       "Sept2005_AmtPaid      -0.079177    -0.097475     -0.039356     -0.054484   \n",
       "Aug2005_AmtPaid       -0.057189    -0.054838     -0.073670     -0.036877   \n",
       "July2005_AmtPaid      -0.062620    -0.059865     -0.057702     -0.074064   \n",
       "June2005_AmtPaid      -0.061886    -0.053981     -0.053849     -0.055305   \n",
       "May2005_AmtPaid       -0.053784    -0.048714     -0.050805     -0.052732   \n",
       "April2005_AmtPaid     -0.048733    -0.043099     -0.048443     -0.048828   \n",
       "Default_Pmt            0.396019     0.327093      0.286999      0.269055   \n",
       "\n",
       "                   May2005_Pmt     ...       June2005_BillAmt  \\\n",
       "LIMIT_BAL            -0.170045     ...               0.293988   \n",
       "SEX                  -0.038533     ...              -0.021880   \n",
       "EDUCATION             0.039623     ...              -0.006131   \n",
       "MARRIAGE             -0.002497     ...              -0.027274   \n",
       "AGE                  -0.013277     ...               0.051353   \n",
       "Sept2005_Pmt          0.424473     ...               0.022100   \n",
       "Aug2005_Pmt           0.462717     ...               0.032467   \n",
       "July2005_Pmt          0.551430     ...               0.016579   \n",
       "June2005_Pmt          0.745419     ...               0.014654   \n",
       "May2005_Pmt           1.000000     ...               0.024139   \n",
       "April2005_Pmt         0.740357     ...               0.020598   \n",
       "Sept2005_BillAmt     -0.018581     ...               0.860272   \n",
       "Aug2005_BillAmt      -0.008614     ...               0.892482   \n",
       "July2005_BillAmt      0.003377     ...               0.923969   \n",
       "June2005_BillAmt      0.024139     ...               1.000000   \n",
       "May2005_BillAmt       0.036216     ...               0.940134   \n",
       "April2005_BillAmt     0.042616     ...               0.900941   \n",
       "Sept2005_AmtPaid     -0.053692     ...               0.233012   \n",
       "Aug2005_AmtPaid      -0.039586     ...               0.207564   \n",
       "July2005_AmtPaid     -0.037270     ...               0.300023   \n",
       "June2005_AmtPaid     -0.065943     ...               0.130191   \n",
       "May2005_AmtPaid      -0.051815     ...               0.160433   \n",
       "April2005_AmtPaid    -0.046110     ...               0.177637   \n",
       "Default_Pmt           0.260850     ...              -0.010156   \n",
       "\n",
       "                   May2005_BillAmt  April2005_BillAmt  Sept2005_AmtPaid  \\\n",
       "LIMIT_BAL                 0.295562           0.290389          0.195236   \n",
       "SEX                      -0.017005          -0.016733         -0.000242   \n",
       "EDUCATION                -0.012439          -0.012646         -0.041088   \n",
       "MARRIAGE                 -0.029270          -0.025066         -0.004653   \n",
       "AGE                       0.049345           0.047613          0.026147   \n",
       "Sept2005_Pmt              0.030731           0.030201         -0.079177   \n",
       "Aug2005_Pmt               0.040422           0.042222         -0.097475   \n",
       "July2005_Pmt              0.026196           0.028979         -0.039356   \n",
       "June2005_Pmt              0.027239           0.033138         -0.054484   \n",
       "May2005_Pmt               0.036216           0.042616         -0.053692   \n",
       "April2005_Pmt             0.041785           0.046012         -0.047804   \n",
       "Sept2005_BillAmt          0.829779           0.802650          0.140277   \n",
       "Aug2005_BillAmt           0.859778           0.831594          0.280365   \n",
       "July2005_BillAmt          0.883910           0.853320          0.244335   \n",
       "June2005_BillAmt          0.940134           0.900941          0.233012   \n",
       "May2005_BillAmt           1.000000           0.946197          0.217031   \n",
       "April2005_BillAmt         0.946197           1.000000          0.199965   \n",
       "Sept2005_AmtPaid          0.217031           0.199965          1.000000   \n",
       "Aug2005_AmtPaid           0.181246           0.172663          0.285576   \n",
       "July2005_AmtPaid          0.252305           0.233770          0.252191   \n",
       "June2005_AmtPaid          0.293118           0.250237          0.199558   \n",
       "May2005_AmtPaid           0.141574           0.307729          0.148459   \n",
       "April2005_AmtPaid         0.164184           0.115494          0.185735   \n",
       "Default_Pmt              -0.006760          -0.005372         -0.072929   \n",
       "\n",
       "                   Aug2005_AmtPaid  July2005_AmtPaid  June2005_AmtPaid  \\\n",
       "LIMIT_BAL                 0.178408          0.210167          0.203242   \n",
       "SEX                      -0.001391         -0.008597         -0.002229   \n",
       "EDUCATION                -0.032793         -0.044293         -0.040949   \n",
       "MARRIAGE                 -0.009513         -0.004250         -0.013970   \n",
       "AGE                       0.021785          0.029247          0.021379   \n",
       "Sept2005_Pmt             -0.057189         -0.062620         -0.061886   \n",
       "Aug2005_Pmt              -0.054838         -0.059865         -0.053981   \n",
       "July2005_Pmt             -0.073670         -0.057702         -0.053849   \n",
       "June2005_Pmt             -0.036877         -0.074064         -0.055305   \n",
       "May2005_Pmt              -0.039586         -0.037270         -0.065943   \n",
       "April2005_Pmt            -0.039868         -0.040160         -0.030460   \n",
       "Sept2005_BillAmt          0.099355          0.156887          0.158303   \n",
       "Aug2005_BillAmt           0.100851          0.150718          0.147398   \n",
       "July2005_BillAmt          0.316936          0.130011          0.143405   \n",
       "June2005_BillAmt          0.207564          0.300023          0.130191   \n",
       "May2005_BillAmt           0.181246          0.252305          0.293118   \n",
       "April2005_BillAmt         0.172663          0.233770          0.250237   \n",
       "Sept2005_AmtPaid          0.285576          0.252191          0.199558   \n",
       "Aug2005_AmtPaid           1.000000          0.244770          0.180107   \n",
       "July2005_AmtPaid          0.244770          1.000000          0.216325   \n",
       "June2005_AmtPaid          0.180107          0.216325          1.000000   \n",
       "May2005_AmtPaid           0.180908          0.159214          0.151830   \n",
       "April2005_AmtPaid         0.157634          0.162740          0.157834   \n",
       "Default_Pmt              -0.058579         -0.056250         -0.056827   \n",
       "\n",
       "                   May2005_AmtPaid  April2005_AmtPaid  Default_Pmt  \n",
       "LIMIT_BAL                 0.217202           0.219595    -0.153520  \n",
       "SEX                      -0.001667          -0.002766    -0.039961  \n",
       "EDUCATION                -0.045138          -0.044061     0.033842  \n",
       "MARRIAGE                 -0.003019          -0.008383    -0.027575  \n",
       "AGE                       0.022850           0.019478     0.013890  \n",
       "Sept2005_Pmt             -0.053784          -0.048733     0.396019  \n",
       "Aug2005_Pmt              -0.048714          -0.043099     0.327093  \n",
       "July2005_Pmt             -0.050805          -0.048443     0.286999  \n",
       "June2005_Pmt             -0.052732          -0.048828     0.269055  \n",
       "May2005_Pmt              -0.051815          -0.046110     0.260850  \n",
       "April2005_Pmt            -0.066875          -0.045358     0.244437  \n",
       "Sept2005_BillAmt          0.167026           0.179341    -0.019644  \n",
       "Aug2005_BillAmt           0.157957           0.174256    -0.014193  \n",
       "July2005_BillAmt          0.179712           0.182326    -0.014076  \n",
       "June2005_BillAmt          0.160433           0.177637    -0.010156  \n",
       "May2005_BillAmt           0.141574           0.164184    -0.006760  \n",
       "April2005_BillAmt         0.307729           0.115494    -0.005372  \n",
       "Sept2005_AmtPaid          0.148459           0.185735    -0.072929  \n",
       "Aug2005_AmtPaid           0.180908           0.157634    -0.058579  \n",
       "July2005_AmtPaid          0.159214           0.162740    -0.056250  \n",
       "June2005_AmtPaid          0.151830           0.157834    -0.056827  \n",
       "May2005_AmtPaid           1.000000           0.154896    -0.055124  \n",
       "April2005_AmtPaid         0.154896           1.000000    -0.053183  \n",
       "Default_Pmt              -0.055124          -0.053183     1.000000  \n",
       "\n",
       "[24 rows x 24 columns]"
      ]
     },
     "execution_count": 31,
     "metadata": {},
     "output_type": "execute_result"
    }
   ],
   "source": [
    "htmap"
   ]
  },
  {
   "cell_type": "code",
   "execution_count": 4,
   "metadata": {},
   "outputs": [
    {
     "ename": "NameError",
     "evalue": "name 'sns' is not defined",
     "output_type": "error",
     "traceback": [
      "\u001b[1;31m---------------------------------------------------------------------------\u001b[0m",
      "\u001b[1;31mNameError\u001b[0m                                 Traceback (most recent call last)",
      "\u001b[1;32m<ipython-input-4-35a441e907b8>\u001b[0m in \u001b[0;36m<module>\u001b[1;34m\u001b[0m\n\u001b[1;32m----> 1\u001b[1;33m \u001b[0msns\u001b[0m\u001b[1;33m.\u001b[0m\u001b[0mheatmap\u001b[0m\u001b[1;33m(\u001b[0m\u001b[0mhtmap\u001b[0m\u001b[1;33m,\u001b[0m \u001b[0mcmap\u001b[0m\u001b[1;33m=\u001b[0m\u001b[1;34m'coolwarm'\u001b[0m\u001b[1;33m)\u001b[0m\u001b[1;33m\u001b[0m\u001b[1;33m\u001b[0m\u001b[0m\n\u001b[0m\u001b[0;32m      2\u001b[0m \u001b[0mplt\u001b[0m\u001b[1;33m.\u001b[0m\u001b[0mtitle\u001b[0m\u001b[1;33m(\u001b[0m\u001b[1;34m'Default_Pmt.Corr()'\u001b[0m\u001b[1;33m)\u001b[0m\u001b[1;33m\u001b[0m\u001b[1;33m\u001b[0m\u001b[0m\n\u001b[0;32m      3\u001b[0m \u001b[0mplt\u001b[0m\u001b[1;33m.\u001b[0m\u001b[0mshow\u001b[0m\u001b[1;33m(\u001b[0m\u001b[1;33m)\u001b[0m\u001b[1;33m\u001b[0m\u001b[1;33m\u001b[0m\u001b[0m\n",
      "\u001b[1;31mNameError\u001b[0m: name 'sns' is not defined"
     ]
    }
   ],
   "source": [
    "sns.heatmap(htmap, cmap='coolwarm')\n",
    "plt.title('Default_Pmt.Corr()')\n",
    "plt.show()"
   ]
  },
  {
   "cell_type": "markdown",
   "metadata": {},
   "source": [
    "From the heatmap, we can distinctively see two highly correlated groups of attributes, customers' late payment status and monthly bill. We see the same result from pandas_profiling of the dataset."
   ]
  },
  {
   "cell_type": "code",
   "execution_count": 67,
   "metadata": {},
   "outputs": [
    {
     "data": {
      "image/png": "[encoded data removed]",
      "text/plain": [
       "<Figure size 419.75x360 with 6 Axes>"
      ]
     },
     "metadata": {},
     "output_type": "display_data"
    }
   ],
   "source": [
    "# Pairwise scatter plot bill_amt1 vs pay_amt1 with 20% of customers\n",
    "data_df_frac = data_df.sample(frac=0.2, replace = False)\n",
    "g = sns.pairplot(data_df_frac, vars = ['Sept2005_BillAmt', 'Aug2005_AmtPaid'], hue = 'Default_Pmt')"
   ]
  },
  {
   "cell_type": "markdown",
   "metadata": {},
   "source": [
    "Customers with extremely large monthly payment tend to have very low default rate. However, the plot shows no clear separation of default status for the majority of customers (other bill and payment pairwise scatter plots show similar pattern)."
   ]
  },
  {
   "cell_type": "code",
   "execution_count": 33,
   "metadata": {},
   "outputs": [
    {
     "data": {
      "image/png": "[encoded data removed]",
      "text/plain": [
       "<Figure size 432x288 with 1 Axes>"
      ]
     },
     "metadata": {},
     "output_type": "display_data"
    }
   ],
   "source": [
    "# Boxplot shows the quartiles of the dataset \n",
    "w = sns.boxplot(data=data_df, x='MARRIAGE', y='LIMIT_BAL')"
   ]
  },
  {
   "cell_type": "code",
   "execution_count": 34,
   "metadata": {},
   "outputs": [
    {
     "data": {
      "image/png": "[encoded data removed]",
      "text/plain": [
       "<Figure size 432x288 with 1 Axes>"
      ]
     },
     "metadata": {},
     "output_type": "display_data"
    }
   ],
   "source": [
    "#Violinplots with added hue and split, you can compare the distributions of Male VS Female credit limit based on Education\n",
    "sns.violinplot(data=data_df, x='EDUCATION', y='LIMIT_BAL', hue='SEX', split=True)\n",
    "plt.show()"
   ]
  },
  {
   "cell_type": "markdown",
   "metadata": {},
   "source": [
    "From the Pandas Profiling output report, we noticed there's a high correlation of bill amounts from month to month."
   ]
  },
  {
   "cell_type": "markdown",
   "metadata": {},
   "source": [
    "#Must run cell as Markdown\n",
    "![title](images/over_view.png)"
   ]
  },
  {
   "cell_type": "markdown",
   "metadata": {},
   "source": [
    "From the Pearson correlation plot,  we also noticed there's a negative correlation between Marriage and Age.  There is a slight correlation between the Pay and Bill amount features."
   ]
  },
  {
   "cell_type": "markdown",
   "metadata": {},
   "source": [
    "![title](images/pearson_correlation.png)"
   ]
  },
  {
   "cell_type": "markdown",
   "metadata": {},
   "source": [
    "## Explore Attributes and Class"
   ]
  },
  {
   "cell_type": "code",
   "execution_count": 35,
   "metadata": {},
   "outputs": [],
   "source": [
    "from sklearn.linear_model import LogisticRegression"
   ]
  },
  {
   "cell_type": "code",
   "execution_count": 36,
   "metadata": {},
   "outputs": [
    {
     "data": {
      "text/plain": [
       "<matplotlib.axes._subplots.AxesSubplot at 0x2894c7827b8>"
      ]
     },
     "execution_count": 36,
     "metadata": {},
     "output_type": "execute_result"
    },
    {
     "data": {
      "image/png": "[encoded data removed]",
      "text/plain": [
       "<Figure size 432x288 with 1 Axes>"
      ]
     },
     "metadata": {},
     "output_type": "display_data"
    }
   ],
   "source": [
    "sns.regplot(x='LIMIT_BAL', y='Default_Pmt', data=data_df, logistic=True)"
   ]
  },
  {
   "cell_type": "markdown",
   "metadata": {},
   "source": [
    "What's interesting to note here (above graphs) is that as credit limit balances increases, the probability of \"Default\"  (Default_Pmt =1) decreases"
   ]
  },
  {
   "cell_type": "code",
   "execution_count": 94,
   "metadata": {},
   "outputs": [
    {
     "data": {
      "image/png": "[encoded data removed]",
      "text/plain": [
       "<Figure size 432x288 with 1 Axes>"
      ]
     },
     "metadata": {},
     "output_type": "display_data"
    }
   ],
   "source": [
    "# Default rate by gender\n",
    "data_grouped = data_df.groupby(by=data_df.SEX)\n",
    "default_rate = data_grouped.Default_Pmt.sum()/data_grouped.Default_Pmt.count()\n",
    "default_rate.plot(kind='barh')\n",
    "plt.title('Default Rate by SEX')\n",
    "sns.set_style(\"dark\") "
   ]
  },
  {
   "cell_type": "code",
   "execution_count": 96,
   "metadata": {},
   "outputs": [
    {
     "data": {
      "image/png": "[encoded data removed]",
      "text/plain": [
       "<Figure size 432x288 with 1 Axes>"
      ]
     },
     "metadata": {},
     "output_type": "display_data"
    }
   ],
   "source": [
    "# Default rate by education\n",
    "data_grouped = data_df.groupby(by=data_df.EDUCATION)\n",
    "default_rate = data_grouped.Default_Pmt.sum()/data_grouped.Default_Pmt.count()\n",
    "default_rate.plot(kind='barh')\n",
    "plt.title('Default Rate by Education')\n",
    "sns.set_style(\"dark\")  \n",
    "plt.show()"
   ]
  },
  {
   "cell_type": "code",
   "execution_count": 42,
   "metadata": {},
   "outputs": [
    {
     "data": {
      "image/png": "[encoded data removed]",
      "text/plain": [
       "<Figure size 432x288 with 1 Axes>"
      ]
     },
     "metadata": {},
     "output_type": "display_data"
    }
   ],
   "source": [
    "# Default rate by education\n",
    "data_grouped = data_df.groupby(by=data_df.MARRIAGE)\n",
    "default_rate = data_grouped.Default_Pmt.sum()/data_grouped.Default_Pmt.count()\n",
    "default_rate.plot(kind='barh')\n",
    "plt.title('Default Rate by Marriage')\n",
    "sns.set_style(\"dark\")  #To get rid of grid\n",
    "plt.show()"
   ]
  },
  {
   "cell_type": "code",
   "execution_count": 43,
   "metadata": {},
   "outputs": [],
   "source": [
    "import numpy as np"
   ]
  },
  {
   "cell_type": "markdown",
   "metadata": {},
   "source": [
    "## New Features\n",
    "In trems of new and additional features, we think that a FICO-like score could be a very important predictior of default. However, we are not familiar with Tainwanese financial system and uncertain about the existence of this kind of credit history score. From existing features, we generated two new features, \"Age Groups\" and \"Risk Categories\". We explored their relationships with default status."
   ]
  },
  {
   "cell_type": "code",
   "execution_count": 44,
   "metadata": {},
   "outputs": [],
   "source": [
    "#Creating new AGE_GROUP column with where function\n",
    "data_df['AGE_GROUP'] = np.where(data_df['AGE'] <= 30, 'Young', 'Middle')\n",
    "data_df['AGE_GROUP'] = np.where(data_df['AGE'] > 60, 'Senior', data_df['AGE_GROUP'] )"
   ]
  },
  {
   "cell_type": "code",
   "execution_count": 45,
   "metadata": {},
   "outputs": [
    {
     "data": {
      "text/plain": [
       "array(['Young', 'Middle', 'Senior'], dtype=object)"
      ]
     },
     "execution_count": 45,
     "metadata": {},
     "output_type": "execute_result"
    }
   ],
   "source": [
    "#Confirming new variable was added with new values\n",
    "data_df.AGE_GROUP.unique()"
   ]
  },
  {
   "cell_type": "code",
   "execution_count": 46,
   "metadata": {},
   "outputs": [
    {
     "data": {
      "text/plain": [
       "AGE_GROUP\n",
       "Middle    18715\n",
       "Senior      272\n",
       "Young     11013\n",
       "dtype: int64"
      ]
     },
     "execution_count": 46,
     "metadata": {},
     "output_type": "execute_result"
    }
   ],
   "source": [
    "#adding group by to view count of AGE_GROUP subcategories\n",
    "data_df.groupby(['AGE_GROUP']).size()"
   ]
  },
  {
   "cell_type": "code",
   "execution_count": 5,
   "metadata": {},
   "outputs": [
    {
     "ename": "NameError",
     "evalue": "name 'data_df' is not defined",
     "output_type": "error",
     "traceback": [
      "\u001b[1;31m---------------------------------------------------------------------------\u001b[0m",
      "\u001b[1;31mNameError\u001b[0m                                 Traceback (most recent call last)",
      "\u001b[1;32m<ipython-input-5-b84745972269>\u001b[0m in \u001b[0;36m<module>\u001b[1;34m\u001b[0m\n\u001b[0;32m      1\u001b[0m \u001b[1;31m# Default rate by AGE_Group\u001b[0m\u001b[1;33m\u001b[0m\u001b[1;33m\u001b[0m\u001b[1;33m\u001b[0m\u001b[0m\n\u001b[1;32m----> 2\u001b[1;33m \u001b[0mdata_grouped\u001b[0m \u001b[1;33m=\u001b[0m \u001b[0mdata_df\u001b[0m\u001b[1;33m.\u001b[0m\u001b[0mgroupby\u001b[0m\u001b[1;33m(\u001b[0m\u001b[0mby\u001b[0m\u001b[1;33m=\u001b[0m\u001b[0mdata_df\u001b[0m\u001b[1;33m.\u001b[0m\u001b[0mAGE_GROUP\u001b[0m\u001b[1;33m)\u001b[0m\u001b[1;33m\u001b[0m\u001b[1;33m\u001b[0m\u001b[0m\n\u001b[0m\u001b[0;32m      3\u001b[0m \u001b[0mdefault_rate\u001b[0m \u001b[1;33m=\u001b[0m \u001b[0mdata_grouped\u001b[0m\u001b[1;33m.\u001b[0m\u001b[0mDefault_Pmt\u001b[0m\u001b[1;33m.\u001b[0m\u001b[0msum\u001b[0m\u001b[1;33m(\u001b[0m\u001b[1;33m)\u001b[0m\u001b[1;33m/\u001b[0m\u001b[0mdata_grouped\u001b[0m\u001b[1;33m.\u001b[0m\u001b[0mDefault_Pmt\u001b[0m\u001b[1;33m.\u001b[0m\u001b[0mcount\u001b[0m\u001b[1;33m(\u001b[0m\u001b[1;33m)\u001b[0m\u001b[1;33m\u001b[0m\u001b[1;33m\u001b[0m\u001b[0m\n\u001b[0;32m      4\u001b[0m \u001b[0mdefault_rate\u001b[0m\u001b[1;33m.\u001b[0m\u001b[0mplot\u001b[0m\u001b[1;33m(\u001b[0m\u001b[0mkind\u001b[0m\u001b[1;33m=\u001b[0m\u001b[1;34m'barh'\u001b[0m\u001b[1;33m)\u001b[0m\u001b[1;33m\u001b[0m\u001b[1;33m\u001b[0m\u001b[0m\n\u001b[0;32m      5\u001b[0m \u001b[0mplt\u001b[0m\u001b[1;33m.\u001b[0m\u001b[0mtitle\u001b[0m\u001b[1;33m(\u001b[0m\u001b[1;34m'Default Rate vs AGE_Group'\u001b[0m\u001b[1;33m)\u001b[0m\u001b[1;33m\u001b[0m\u001b[1;33m\u001b[0m\u001b[0m\n",
      "\u001b[1;31mNameError\u001b[0m: name 'data_df' is not defined"
     ]
    }
   ],
   "source": [
    "# Default rate by AGE_Group\n",
    "data_grouped = data_df.groupby(by=data_df.AGE_GROUP)\n",
    "default_rate = data_grouped.Default_Pmt.sum()/data_grouped.Default_Pmt.count()\n",
    "default_rate.plot(kind='barh')\n",
    "plt.title('Default Rate vs AGE_Group')\n",
    "plt.show()"
   ]
  },
  {
   "cell_type": "markdown",
   "metadata": {},
   "source": [
    "Interestingly, seniors have higher default rate. However, the number of seniors in the dataset is low (only 272). "
   ]
  },
  {
   "cell_type": "code",
   "execution_count": 49,
   "metadata": {},
   "outputs": [
    {
     "data": {
      "text/html": [
       "<div>\n",
       "<style scoped>\n",
       "    .dataframe tbody tr th:only-of-type {\n",
       "        vertical-align: middle;\n",
       "    }\n",
       "\n",
       "    .dataframe tbody tr th {\n",
       "        vertical-align: top;\n",
       "    }\n",
       "\n",
       "    .dataframe thead th {\n",
       "        text-align: right;\n",
       "    }\n",
       "</style>\n",
       "<table border=\"1\" class=\"dataframe\">\n",
       "  <thead>\n",
       "    <tr style=\"text-align: right;\">\n",
       "      <th></th>\n",
       "      <th>ID</th>\n",
       "      <th>LIMIT_BAL</th>\n",
       "      <th>SEX</th>\n",
       "      <th>EDUCATION</th>\n",
       "      <th>MARRIAGE</th>\n",
       "      <th>AGE</th>\n",
       "      <th>Sept2005_Pmt</th>\n",
       "      <th>Aug2005_Pmt</th>\n",
       "      <th>July2005_Pmt</th>\n",
       "      <th>June2005_Pmt</th>\n",
       "      <th>...</th>\n",
       "      <th>May2005_BillAmt</th>\n",
       "      <th>April2005_BillAmt</th>\n",
       "      <th>Sept2005_AmtPaid</th>\n",
       "      <th>Aug2005_AmtPaid</th>\n",
       "      <th>July2005_AmtPaid</th>\n",
       "      <th>June2005_AmtPaid</th>\n",
       "      <th>May2005_AmtPaid</th>\n",
       "      <th>April2005_AmtPaid</th>\n",
       "      <th>Default_Pmt</th>\n",
       "      <th>AGE_GROUP</th>\n",
       "    </tr>\n",
       "  </thead>\n",
       "  <tbody>\n",
       "    <tr>\n",
       "      <th>0</th>\n",
       "      <td>1</td>\n",
       "      <td>20000</td>\n",
       "      <td>2</td>\n",
       "      <td>2</td>\n",
       "      <td>1</td>\n",
       "      <td>24</td>\n",
       "      <td>2</td>\n",
       "      <td>2</td>\n",
       "      <td>0</td>\n",
       "      <td>0</td>\n",
       "      <td>...</td>\n",
       "      <td>0</td>\n",
       "      <td>0</td>\n",
       "      <td>0</td>\n",
       "      <td>689</td>\n",
       "      <td>0</td>\n",
       "      <td>0</td>\n",
       "      <td>0</td>\n",
       "      <td>0</td>\n",
       "      <td>1</td>\n",
       "      <td>Young</td>\n",
       "    </tr>\n",
       "    <tr>\n",
       "      <th>1</th>\n",
       "      <td>2</td>\n",
       "      <td>120000</td>\n",
       "      <td>2</td>\n",
       "      <td>2</td>\n",
       "      <td>2</td>\n",
       "      <td>26</td>\n",
       "      <td>0</td>\n",
       "      <td>2</td>\n",
       "      <td>0</td>\n",
       "      <td>0</td>\n",
       "      <td>...</td>\n",
       "      <td>3455</td>\n",
       "      <td>3261</td>\n",
       "      <td>0</td>\n",
       "      <td>1000</td>\n",
       "      <td>1000</td>\n",
       "      <td>1000</td>\n",
       "      <td>0</td>\n",
       "      <td>2000</td>\n",
       "      <td>1</td>\n",
       "      <td>Young</td>\n",
       "    </tr>\n",
       "    <tr>\n",
       "      <th>2</th>\n",
       "      <td>3</td>\n",
       "      <td>90000</td>\n",
       "      <td>2</td>\n",
       "      <td>2</td>\n",
       "      <td>2</td>\n",
       "      <td>34</td>\n",
       "      <td>0</td>\n",
       "      <td>0</td>\n",
       "      <td>0</td>\n",
       "      <td>0</td>\n",
       "      <td>...</td>\n",
       "      <td>14948</td>\n",
       "      <td>15549</td>\n",
       "      <td>1518</td>\n",
       "      <td>1500</td>\n",
       "      <td>1000</td>\n",
       "      <td>1000</td>\n",
       "      <td>1000</td>\n",
       "      <td>5000</td>\n",
       "      <td>0</td>\n",
       "      <td>Middle</td>\n",
       "    </tr>\n",
       "    <tr>\n",
       "      <th>3</th>\n",
       "      <td>4</td>\n",
       "      <td>50000</td>\n",
       "      <td>2</td>\n",
       "      <td>2</td>\n",
       "      <td>1</td>\n",
       "      <td>37</td>\n",
       "      <td>0</td>\n",
       "      <td>0</td>\n",
       "      <td>0</td>\n",
       "      <td>0</td>\n",
       "      <td>...</td>\n",
       "      <td>28959</td>\n",
       "      <td>29547</td>\n",
       "      <td>2000</td>\n",
       "      <td>2019</td>\n",
       "      <td>1200</td>\n",
       "      <td>1100</td>\n",
       "      <td>1069</td>\n",
       "      <td>1000</td>\n",
       "      <td>0</td>\n",
       "      <td>Middle</td>\n",
       "    </tr>\n",
       "    <tr>\n",
       "      <th>4</th>\n",
       "      <td>5</td>\n",
       "      <td>50000</td>\n",
       "      <td>1</td>\n",
       "      <td>2</td>\n",
       "      <td>1</td>\n",
       "      <td>57</td>\n",
       "      <td>0</td>\n",
       "      <td>0</td>\n",
       "      <td>0</td>\n",
       "      <td>0</td>\n",
       "      <td>...</td>\n",
       "      <td>19146</td>\n",
       "      <td>19131</td>\n",
       "      <td>2000</td>\n",
       "      <td>36681</td>\n",
       "      <td>10000</td>\n",
       "      <td>9000</td>\n",
       "      <td>689</td>\n",
       "      <td>679</td>\n",
       "      <td>0</td>\n",
       "      <td>Middle</td>\n",
       "    </tr>\n",
       "  </tbody>\n",
       "</table>\n",
       "<p>5 rows × 26 columns</p>\n",
       "</div>"
      ],
      "text/plain": [
       "   ID  LIMIT_BAL  SEX  EDUCATION  MARRIAGE  AGE  Sept2005_Pmt  Aug2005_Pmt  \\\n",
       "0   1      20000    2          2         1   24             2            2   \n",
       "1   2     120000    2          2         2   26             0            2   \n",
       "2   3      90000    2          2         2   34             0            0   \n",
       "3   4      50000    2          2         1   37             0            0   \n",
       "4   5      50000    1          2         1   57             0            0   \n",
       "\n",
       "   July2005_Pmt  June2005_Pmt    ...      May2005_BillAmt  April2005_BillAmt  \\\n",
       "0             0             0    ...                    0                  0   \n",
       "1             0             0    ...                 3455               3261   \n",
       "2             0             0    ...                14948              15549   \n",
       "3             0             0    ...                28959              29547   \n",
       "4             0             0    ...                19146              19131   \n",
       "\n",
       "   Sept2005_AmtPaid  Aug2005_AmtPaid  July2005_AmtPaid  June2005_AmtPaid  \\\n",
       "0                 0              689                 0                 0   \n",
       "1                 0             1000              1000              1000   \n",
       "2              1518             1500              1000              1000   \n",
       "3              2000             2019              1200              1100   \n",
       "4              2000            36681             10000              9000   \n",
       "\n",
       "   May2005_AmtPaid  April2005_AmtPaid  Default_Pmt  AGE_GROUP  \n",
       "0                0                  0            1      Young  \n",
       "1                0               2000            1      Young  \n",
       "2             1000               5000            0     Middle  \n",
       "3             1069               1000            0     Middle  \n",
       "4              689                679            0     Middle  \n",
       "\n",
       "[5 rows x 26 columns]"
      ]
     },
     "execution_count": 49,
     "metadata": {},
     "output_type": "execute_result"
    }
   ],
   "source": [
    "data_df.head()"
   ]
  },
  {
   "cell_type": "code",
   "execution_count": 50,
   "metadata": {},
   "outputs": [],
   "source": [
    "#Creating new column to obtain maximum values for multiple columns\n",
    "\n",
    "data_df['Num_Missed_Pmts'] = data_df[['Sept2005_Pmt','Aug2005_Pmt', 'July2005_Pmt', 'June2005_Pmt','May2005_Pmt','April2005_Pmt']].max(1)"
   ]
  },
  {
   "cell_type": "code",
   "execution_count": 70,
   "metadata": {},
   "outputs": [
    {
     "data": {
      "text/plain": [
       "array(['HighRisk', 'LowRisk', 'ModerateRisk'], dtype=object)"
      ]
     },
     "execution_count": 70,
     "metadata": {},
     "output_type": "execute_result"
    }
   ],
   "source": [
    "## Creating categorical variable based on the maximun number of late Payments \n",
    "data_df['Risk_Category'] = np.where(data_df['Num_Missed_Pmts'] < 1, 'LowRisk', 'ModerateRisk')\n",
    "data_df['Risk_Category'] = np.where(data_df['Num_Missed_Pmts'] >= 2, 'HighRisk', data_df['Risk_Category'] )\n",
    "\n",
    "data_df.Risk_Category.unique()"
   ]
  },
  {
   "cell_type": "code",
   "execution_count": 53,
   "metadata": {},
   "outputs": [
    {
     "data": {
      "text/plain": [
       "Risk_Category\n",
       "HighRisk         8380\n",
       "LowRisk         19931\n",
       "ModerateRisk     1689\n",
       "dtype: int64"
      ]
     },
     "execution_count": 53,
     "metadata": {},
     "output_type": "execute_result"
    }
   ],
   "source": [
    "#adding group by to view count of Risk_Category subcategories\n",
    "data_df.groupby(['Risk_Category']).size()"
   ]
  },
  {
   "cell_type": "code",
   "execution_count": 6,
   "metadata": {},
   "outputs": [
    {
     "ename": "NameError",
     "evalue": "name 'data_df' is not defined",
     "output_type": "error",
     "traceback": [
      "\u001b[1;31m---------------------------------------------------------------------------\u001b[0m",
      "\u001b[1;31mNameError\u001b[0m                                 Traceback (most recent call last)",
      "\u001b[1;32m<ipython-input-6-88256d81bd04>\u001b[0m in \u001b[0;36m<module>\u001b[1;34m\u001b[0m\n\u001b[0;32m      1\u001b[0m \u001b[1;31m# Default rate by Risk_Category\u001b[0m\u001b[1;33m\u001b[0m\u001b[1;33m\u001b[0m\u001b[1;33m\u001b[0m\u001b[0m\n\u001b[1;32m----> 2\u001b[1;33m \u001b[0mdata_grouped\u001b[0m \u001b[1;33m=\u001b[0m \u001b[0mdata_df\u001b[0m\u001b[1;33m.\u001b[0m\u001b[0mgroupby\u001b[0m\u001b[1;33m(\u001b[0m\u001b[0mby\u001b[0m\u001b[1;33m=\u001b[0m\u001b[0mdata_df\u001b[0m\u001b[1;33m.\u001b[0m\u001b[0mRisk_Category\u001b[0m\u001b[1;33m)\u001b[0m\u001b[1;33m\u001b[0m\u001b[1;33m\u001b[0m\u001b[0m\n\u001b[0m\u001b[0;32m      3\u001b[0m \u001b[0mdefault_rate\u001b[0m \u001b[1;33m=\u001b[0m \u001b[0mdata_grouped\u001b[0m\u001b[1;33m.\u001b[0m\u001b[0mDefault_Pmt\u001b[0m\u001b[1;33m.\u001b[0m\u001b[0msum\u001b[0m\u001b[1;33m(\u001b[0m\u001b[1;33m)\u001b[0m\u001b[1;33m/\u001b[0m\u001b[0mdata_grouped\u001b[0m\u001b[1;33m.\u001b[0m\u001b[0mDefault_Pmt\u001b[0m\u001b[1;33m.\u001b[0m\u001b[0mcount\u001b[0m\u001b[1;33m(\u001b[0m\u001b[1;33m)\u001b[0m\u001b[1;33m\u001b[0m\u001b[1;33m\u001b[0m\u001b[0m\n\u001b[0;32m      4\u001b[0m \u001b[0mdefault_rate\u001b[0m\u001b[1;33m.\u001b[0m\u001b[0mplot\u001b[0m\u001b[1;33m(\u001b[0m\u001b[0mkind\u001b[0m\u001b[1;33m=\u001b[0m\u001b[1;34m'barh'\u001b[0m\u001b[1;33m)\u001b[0m\u001b[1;33m\u001b[0m\u001b[1;33m\u001b[0m\u001b[0m\n\u001b[0;32m      5\u001b[0m \u001b[0mplt\u001b[0m\u001b[1;33m.\u001b[0m\u001b[0mtitle\u001b[0m\u001b[1;33m(\u001b[0m\u001b[1;34m'Default Rate vs Risk_Category'\u001b[0m\u001b[1;33m)\u001b[0m\u001b[1;33m\u001b[0m\u001b[1;33m\u001b[0m\u001b[0m\n",
      "\u001b[1;31mNameError\u001b[0m: name 'data_df' is not defined"
     ]
    }
   ],
   "source": [
    "# Default rate by Risk_Category\n",
    "data_grouped = data_df.groupby(by=data_df.Risk_Category)\n",
    "default_rate = data_grouped.Default_Pmt.sum()/data_grouped.Default_Pmt.count()\n",
    "default_rate.plot(kind='barh')\n",
    "plt.title('Default Rate vs Risk_Category')\n",
    "plt.show()"
   ]
  },
  {
   "cell_type": "markdown",
   "metadata": {},
   "source": [
    "From the graph, we can clearly see that moderate and high risk customers have much higher default rate."
   ]
  },
  {
   "cell_type": "code",
   "execution_count": 56,
   "metadata": {},
   "outputs": [
    {
     "data": {
      "text/plain": [
       "<matplotlib.axes._subplots.AxesSubplot at 0x2896e4d2da0>"
      ]
     },
     "execution_count": 56,
     "metadata": {},
     "output_type": "execute_result"
    },
    {
     "data": {
      "image/png": "[encoded data removed]",
      "text/plain": [
       "<Figure size 432x288 with 1 Axes>"
      ]
     },
     "metadata": {},
     "output_type": "display_data"
    }
   ],
   "source": [
    "sns.violinplot(data=data_df, x='Risk_Category', y='LIMIT_BAL')"
   ]
  },
  {
   "cell_type": "code",
   "execution_count": 57,
   "metadata": {},
   "outputs": [
    {
     "data": {
      "text/plain": [
       "<matplotlib.axes._subplots.AxesSubplot at 0x2896e535668>"
      ]
     },
     "execution_count": 57,
     "metadata": {},
     "output_type": "execute_result"
    },
    {
     "data": {
      "image/png": "[encoded data removed]",
      "text/plain": [
       "<Figure size 432x288 with 1 Axes>"
      ]
     },
     "metadata": {},
     "output_type": "display_data"
    }
   ],
   "source": [
    "sns.boxplot(data=data_df, x='Risk_Category', y='LIMIT_BAL')"
   ]
  },
  {
   "cell_type": "markdown",
   "metadata": {},
   "source": [
    "---"
   ]
  },
  {
   "cell_type": "markdown",
   "metadata": {},
   "source": [
    "## PCA\n",
    "We performed PCA analysis of the continuous features, not necessary for feature reduction purposes, but for evaluating the usefulness of continuous features in classifying the customers' default status. "
   ]
  },
  {
   "cell_type": "code",
   "execution_count": 58,
   "metadata": {},
   "outputs": [],
   "source": [
    "# drop the categorical features \n",
    "df1 = data_df.drop(['ID','AGE_GROUP','Num_Missed_Pmts','Risk_Category', 'Default_Pmt'], axis=1)"
   ]
  },
  {
   "cell_type": "code",
   "execution_count": 59,
   "metadata": {},
   "outputs": [
    {
     "data": {
      "text/html": [
       "<div>\n",
       "<style scoped>\n",
       "    .dataframe tbody tr th:only-of-type {\n",
       "        vertical-align: middle;\n",
       "    }\n",
       "\n",
       "    .dataframe tbody tr th {\n",
       "        vertical-align: top;\n",
       "    }\n",
       "\n",
       "    .dataframe thead th {\n",
       "        text-align: right;\n",
       "    }\n",
       "</style>\n",
       "<table border=\"1\" class=\"dataframe\">\n",
       "  <thead>\n",
       "    <tr style=\"text-align: right;\">\n",
       "      <th></th>\n",
       "      <th>LIMIT_BAL</th>\n",
       "      <th>SEX</th>\n",
       "      <th>EDUCATION</th>\n",
       "      <th>MARRIAGE</th>\n",
       "      <th>AGE</th>\n",
       "      <th>Sept2005_Pmt</th>\n",
       "      <th>Aug2005_Pmt</th>\n",
       "      <th>July2005_Pmt</th>\n",
       "      <th>June2005_Pmt</th>\n",
       "      <th>May2005_Pmt</th>\n",
       "      <th>...</th>\n",
       "      <th>June2005_BillAmt</th>\n",
       "      <th>May2005_BillAmt</th>\n",
       "      <th>April2005_BillAmt</th>\n",
       "      <th>Sept2005_AmtPaid</th>\n",
       "      <th>Aug2005_AmtPaid</th>\n",
       "      <th>July2005_AmtPaid</th>\n",
       "      <th>June2005_AmtPaid</th>\n",
       "      <th>May2005_AmtPaid</th>\n",
       "      <th>April2005_AmtPaid</th>\n",
       "      <th>Default_Pmt</th>\n",
       "    </tr>\n",
       "  </thead>\n",
       "  <tbody>\n",
       "    <tr>\n",
       "      <th>0</th>\n",
       "      <td>20000</td>\n",
       "      <td>2</td>\n",
       "      <td>2</td>\n",
       "      <td>1</td>\n",
       "      <td>24</td>\n",
       "      <td>2</td>\n",
       "      <td>2</td>\n",
       "      <td>0</td>\n",
       "      <td>0</td>\n",
       "      <td>0</td>\n",
       "      <td>...</td>\n",
       "      <td>0</td>\n",
       "      <td>0</td>\n",
       "      <td>0</td>\n",
       "      <td>0</td>\n",
       "      <td>689</td>\n",
       "      <td>0</td>\n",
       "      <td>0</td>\n",
       "      <td>0</td>\n",
       "      <td>0</td>\n",
       "      <td>1</td>\n",
       "    </tr>\n",
       "    <tr>\n",
       "      <th>1</th>\n",
       "      <td>120000</td>\n",
       "      <td>2</td>\n",
       "      <td>2</td>\n",
       "      <td>2</td>\n",
       "      <td>26</td>\n",
       "      <td>0</td>\n",
       "      <td>2</td>\n",
       "      <td>0</td>\n",
       "      <td>0</td>\n",
       "      <td>0</td>\n",
       "      <td>...</td>\n",
       "      <td>3272</td>\n",
       "      <td>3455</td>\n",
       "      <td>3261</td>\n",
       "      <td>0</td>\n",
       "      <td>1000</td>\n",
       "      <td>1000</td>\n",
       "      <td>1000</td>\n",
       "      <td>0</td>\n",
       "      <td>2000</td>\n",
       "      <td>1</td>\n",
       "    </tr>\n",
       "    <tr>\n",
       "      <th>2</th>\n",
       "      <td>90000</td>\n",
       "      <td>2</td>\n",
       "      <td>2</td>\n",
       "      <td>2</td>\n",
       "      <td>34</td>\n",
       "      <td>0</td>\n",
       "      <td>0</td>\n",
       "      <td>0</td>\n",
       "      <td>0</td>\n",
       "      <td>0</td>\n",
       "      <td>...</td>\n",
       "      <td>14331</td>\n",
       "      <td>14948</td>\n",
       "      <td>15549</td>\n",
       "      <td>1518</td>\n",
       "      <td>1500</td>\n",
       "      <td>1000</td>\n",
       "      <td>1000</td>\n",
       "      <td>1000</td>\n",
       "      <td>5000</td>\n",
       "      <td>0</td>\n",
       "    </tr>\n",
       "    <tr>\n",
       "      <th>3</th>\n",
       "      <td>50000</td>\n",
       "      <td>2</td>\n",
       "      <td>2</td>\n",
       "      <td>1</td>\n",
       "      <td>37</td>\n",
       "      <td>0</td>\n",
       "      <td>0</td>\n",
       "      <td>0</td>\n",
       "      <td>0</td>\n",
       "      <td>0</td>\n",
       "      <td>...</td>\n",
       "      <td>28314</td>\n",
       "      <td>28959</td>\n",
       "      <td>29547</td>\n",
       "      <td>2000</td>\n",
       "      <td>2019</td>\n",
       "      <td>1200</td>\n",
       "      <td>1100</td>\n",
       "      <td>1069</td>\n",
       "      <td>1000</td>\n",
       "      <td>0</td>\n",
       "    </tr>\n",
       "    <tr>\n",
       "      <th>4</th>\n",
       "      <td>50000</td>\n",
       "      <td>1</td>\n",
       "      <td>2</td>\n",
       "      <td>1</td>\n",
       "      <td>57</td>\n",
       "      <td>0</td>\n",
       "      <td>0</td>\n",
       "      <td>0</td>\n",
       "      <td>0</td>\n",
       "      <td>0</td>\n",
       "      <td>...</td>\n",
       "      <td>20940</td>\n",
       "      <td>19146</td>\n",
       "      <td>19131</td>\n",
       "      <td>2000</td>\n",
       "      <td>36681</td>\n",
       "      <td>10000</td>\n",
       "      <td>9000</td>\n",
       "      <td>689</td>\n",
       "      <td>679</td>\n",
       "      <td>0</td>\n",
       "    </tr>\n",
       "  </tbody>\n",
       "</table>\n",
       "<p>5 rows × 24 columns</p>\n",
       "</div>"
      ],
      "text/plain": [
       "   LIMIT_BAL  SEX  EDUCATION  MARRIAGE  AGE  Sept2005_Pmt  Aug2005_Pmt  \\\n",
       "0      20000    2          2         1   24             2            2   \n",
       "1     120000    2          2         2   26             0            2   \n",
       "2      90000    2          2         2   34             0            0   \n",
       "3      50000    2          2         1   37             0            0   \n",
       "4      50000    1          2         1   57             0            0   \n",
       "\n",
       "   July2005_Pmt  June2005_Pmt  May2005_Pmt     ...       June2005_BillAmt  \\\n",
       "0             0             0            0     ...                      0   \n",
       "1             0             0            0     ...                   3272   \n",
       "2             0             0            0     ...                  14331   \n",
       "3             0             0            0     ...                  28314   \n",
       "4             0             0            0     ...                  20940   \n",
       "\n",
       "   May2005_BillAmt  April2005_BillAmt  Sept2005_AmtPaid  Aug2005_AmtPaid  \\\n",
       "0                0                  0                 0              689   \n",
       "1             3455               3261                 0             1000   \n",
       "2            14948              15549              1518             1500   \n",
       "3            28959              29547              2000             2019   \n",
       "4            19146              19131              2000            36681   \n",
       "\n",
       "   July2005_AmtPaid  June2005_AmtPaid  May2005_AmtPaid  April2005_AmtPaid  \\\n",
       "0                 0                 0                0                  0   \n",
       "1              1000              1000                0               2000   \n",
       "2              1000              1000             1000               5000   \n",
       "3              1200              1100             1069               1000   \n",
       "4             10000              9000              689                679   \n",
       "\n",
       "   Default_Pmt  \n",
       "0            1  \n",
       "1            1  \n",
       "2            0  \n",
       "3            0  \n",
       "4            0  \n",
       "\n",
       "[5 rows x 24 columns]"
      ]
     },
     "execution_count": 59,
     "metadata": {},
     "output_type": "execute_result"
    }
   ],
   "source": [
    "df1.head()"
   ]
  },
  {
   "cell_type": "code",
   "execution_count": 61,
   "metadata": {},
   "outputs": [],
   "source": [
    "# PCA\n",
    "\n",
    "from sklearn.decomposition import PCA\n",
    "y = df1['Default_Pmt'] \n",
    "x = df1.drop(['Default_Pmt'],axis=1)\n",
    "x_continuous = x.drop([\"SEX\", \"EDUCATION\", 'MARRIAGE',], axis =1)\n",
    "\n",
    "# Standardize the continuous features before principal component analysis \n",
    "\n",
    "x_normalized = (x_continuous-x_continuous.mean())/x_continuous.std()\n",
    "\n",
    "\n",
    "pca = PCA(n_components = 4)\n",
    "X_pca = pca.fit(x_normalized).transform(x_normalized)"
   ]
  },
  {
   "cell_type": "code",
   "execution_count": 62,
   "metadata": {},
   "outputs": [],
   "source": [
    "# Genearte the dataframe containing four PCs and target\n",
    "pc = pd.DataFrame(X_pca, columns = ['PC1', 'PC2', 'PC3', 'PC4'])\n",
    "pc['Default_Pmt'] = y"
   ]
  },
  {
   "cell_type": "code",
   "execution_count": 63,
   "metadata": {},
   "outputs": [
    {
     "data": {
      "image/png": "[encoded data removed]",
      "text/plain": [
       "<Figure size 959.75x900 with 30 Axes>"
      ]
     },
     "metadata": {},
     "output_type": "display_data"
    }
   ],
   "source": [
    "#Pairwise plot of PCs with their default status colored in\n",
    "\n",
    "sns.pairplot(pc, hue = 'Default_Pmt')\n",
    "sns.set_style(\"dark\")"
   ]
  },
  {
   "cell_type": "markdown",
   "metadata": {},
   "source": [
    "PCA pairwise plots above show that the continuous features separate the default status very poorly, indicating that the continuous features such as bill and payment amount and credit limit are likely poor predictors of customers' default status."
   ]
  }
 ],
 "metadata": {
  "kernelspec": {
   "display_name": "Python 3",
   "language": "python",
   "name": "python3"
  },
  "language_info": {
   "codemirror_mode": {
    "name": "ipython",
    "version": 3
   },
   "file_extension": ".py",
   "mimetype": "text/x-python",
   "name": "python",
   "nbconvert_exporter": "python",
   "pygments_lexer": "ipython3",
   "version": "3.7.1"
  }
 },
 "nbformat": 4,
 "nbformat_minor": 2
}
